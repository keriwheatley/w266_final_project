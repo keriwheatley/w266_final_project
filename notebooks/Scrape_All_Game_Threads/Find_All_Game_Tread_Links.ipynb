{
 "cells": [
  {
   "cell_type": "markdown",
   "metadata": {},
   "source": [
    "# Find All the Game Thread Links\n",
    "Each thread has an ID. Find all for the 2017-2018 Season\n",
    "\n",
    "- 256 Regular Season Games"
   ]
  },
  {
   "cell_type": "code",
   "execution_count": 81,
   "metadata": {},
   "outputs": [],
   "source": [
    "import praw\n",
    "import pandas as pd\n",
    "import configparser\n",
    "import numpy as np\n",
    "import datetime as dt\n",
    "\n",
    "# Setup Config for Reddit Data\n",
    "# Store username/password data in reddit.config file\n",
    "config = configparser.ConfigParser()\n",
    "config.read('../reddit.config')\n",
    "\n",
    "reddit = praw.Reddit(client_id=config['REDDIT_CONFIG']['client_id'],\n",
    "                     client_secret=config['REDDIT_CONFIG']['client_secret'],\n",
    "                     password=config['REDDIT_CONFIG']['password'],\n",
    "                     user_agent=config['REDDIT_CONFIG']['user_agent'],\n",
    "                     username=config['REDDIT_CONFIG']['username'])"
   ]
  },
  {
   "cell_type": "code",
   "execution_count": 88,
   "metadata": {},
   "outputs": [],
   "source": [
    "games = pd.DataFrame(columns=['Date',\n",
    "                              'Thread Title',\n",
    "                              'Thread ID',\n",
    "                              'Thread Name',\n",
    "                              'Number of Comments',\n",
    "                              'Score',\n",
    "                              'Subreddit'])\n",
    "\n",
    "nfl = reddit.subreddit('nfl')\n",
    "gamethread_search = nfl.search('Game Thread', time_filter='year', sort='relevance', limit=1000)\n",
    "count = 0\n",
    "for thread in gamethread_search:\n",
    "    post_date = dt.datetime.fromtimestamp(thread.created_utc)\n",
    "    post_date = post_date.strftime('%b-%d-%Y')\n",
    "    \n",
    "    #print(post_date, '---', thread.title, '---', thread.num_comments, count)\n",
    "    \n",
    "    games.loc[count] = [post_date,\n",
    "                        thread.title,\n",
    "                        thread.id,\n",
    "                        thread.name,\n",
    "                        thread.num_comments,\n",
    "                        thread.score,\n",
    "                        thread.subreddit]\n",
    "    count += 1"
   ]
  },
  {
   "cell_type": "code",
   "execution_count": 91,
   "metadata": {},
   "outputs": [],
   "source": [
    "games = games.sort_values('Thread Title')"
   ]
  },
  {
   "cell_type": "code",
   "execution_count": 93,
   "metadata": {},
   "outputs": [],
   "source": [
    "games.to_csv('Game_Thread_List.csv')"
   ]
  },
  {
   "cell_type": "code",
   "execution_count": 94,
   "metadata": {},
   "outputs": [],
   "source": [
    "# Saved All The Game Threads!"
   ]
  },
  {
   "cell_type": "code",
   "execution_count": 95,
   "metadata": {},
   "outputs": [],
   "source": [
    "postgames = pd.DataFrame(columns=['Date',\n",
    "                              'Thread Title',\n",
    "                              'Thread ID',\n",
    "                              'Thread Name',\n",
    "                              'Number of Comments',\n",
    "                              'Score',\n",
    "                              'Subreddit'])\n",
    "\n",
    "nfl = reddit.subreddit('nfl')\n",
    "gamethread_search = nfl.search('Post Game Thread', time_filter='year', sort='relevance', limit=1000)\n",
    "count = 0\n",
    "for thread in gamethread_search:\n",
    "    post_date = dt.datetime.fromtimestamp(thread.created_utc)\n",
    "    post_date = post_date.strftime('%b-%d-%Y')\n",
    "    \n",
    "    #print(post_date, '---', thread.title, '---', thread.num_comments, count)\n",
    "    \n",
    "    postgames.loc[count] = [post_date,\n",
    "                        thread.title,\n",
    "                        thread.id,\n",
    "                        thread.name,\n",
    "                        thread.num_comments,\n",
    "                        thread.score,\n",
    "                        thread.subreddit]\n",
    "    count += 1"
   ]
  },
  {
   "cell_type": "code",
   "execution_count": 97,
   "metadata": {},
   "outputs": [],
   "source": [
    "postgames.to_csv('Post_Game_Treads.csv')"
   ]
  },
  {
   "cell_type": "code",
   "execution_count": null,
   "metadata": {},
   "outputs": [],
   "source": []
  }
 ],
 "metadata": {
  "kernelspec": {
   "display_name": "Python 3",
   "language": "python",
   "name": "python3"
  },
  "language_info": {
   "codemirror_mode": {
    "name": "ipython",
    "version": 3
   },
   "file_extension": ".py",
   "mimetype": "text/x-python",
   "name": "python",
   "nbconvert_exporter": "python",
   "pygments_lexer": "ipython3",
   "version": "3.6.4"
  }
 },
 "nbformat": 4,
 "nbformat_minor": 2
}
