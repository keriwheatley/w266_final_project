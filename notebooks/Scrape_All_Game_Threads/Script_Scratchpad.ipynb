{
 "cells": [
  {
   "cell_type": "code",
   "execution_count": 1,
   "metadata": {},
   "outputs": [],
   "source": [
    "import praw\n",
    "import pandas as pd\n",
    "import configparser\n",
    "import numpy as np\n",
    "import datetime as dt\n",
    "import pickle\n",
    "\n",
    "# Setup Config for Reddit Data\n",
    "# Store username/password data in reddit.config file\n",
    "config = configparser.ConfigParser()\n",
    "config.read('../reddit.config')\n",
    "\n",
    "reddit = praw.Reddit(client_id=config['REDDIT_CONFIG']['client_id'],\n",
    "                     client_secret=config['REDDIT_CONFIG']['client_secret'],\n",
    "                     password=config['REDDIT_CONFIG']['password'],\n",
    "                     user_agent=config['REDDIT_CONFIG']['user_agent'],\n",
    "                     username=config['REDDIT_CONFIG']['username'])\n",
    "\n",
    "\n",
    "def parse_comment(comment):\n",
    "    try:\n",
    "        author = comment.author.name\n",
    "        author_flair = comment.author_flair_text\n",
    "    except:\n",
    "        author = 'None'\n",
    "        author_flair = 'None'\n",
    "    score = comment.score\n",
    "    \n",
    "    comment_id = comment\n",
    "    comment_name = comment.name\n",
    "    comment_fullname = comment.fullname\n",
    "    comment_is_root = comment.is_root\n",
    "    comment_parent = comment.parent()\n",
    "    comment_approved_at_utc = comment.approved_at_utc\n",
    "    comment_approved_by = comment.approved_by\n",
    "    comment_created = comment.created\n",
    "    comment_created_utc = comment.created_utc\n",
    "    comment_created_utc_datetime = dt.datetime.fromtimestamp(comment.created_utc)\n",
    "    comment_created_utc_date = created_utc_datetime.strftime(format='%d-%m-%y')\n",
    "    comment_created_utc_time = created_utc_datetime.strftime(format='%H:%M:%S')\n",
    "    comment_banned_at_utc = comment.banned_at_utc\n",
    "    comment_banned_by = comment.banned_by\n",
    "    comment_depth = comment.depth\n",
    "    comment_num_reports = comment.num_reports\n",
    "    comment_body = comment.body\n",
    "    comment_body_parsed = comment.body.replace('\\n',' ').replace('\\t',' ').replace(',',' ')\n",
    "    # Submission Details\n",
    "    submission_id = comment.submission.id\n",
    "    submission_title = comment.submission.title\n",
    "    submission_created_utc = comment.submission.created_utc\n",
    "    \n",
    "    data = [author,\n",
    "            author_flair,\n",
    "            score,\n",
    "            comment_id,\n",
    "            comment_name,\n",
    "            comment_fullname,\n",
    "            comment_is_root,\n",
    "            comment_parent,\n",
    "            comment_approved_at_utc,\n",
    "            comment_approved_by,\n",
    "            comment_created,\n",
    "            comment_created_utc,\n",
    "            comment_created_utc_datetime,\n",
    "            comment_created_utc_date,\n",
    "            comment_created_utc_time,\n",
    "            comment_banned_at_utc,\n",
    "            comment_banned_by,\n",
    "            comment_depth,\n",
    "            comment_num_reports,\n",
    "            comment_body,\n",
    "            comment_body_parsed,\n",
    "            submission_id,\n",
    "            submission_title,\n",
    "            submission_created_utc]\n",
    "    \n",
    "    return data\n",
    "    \n",
    "def pull_comments_and_save(submission_id):\n",
    "    submission = reddit.submission(id=submission_id)\n",
    "    submission_pickle_filename = 'data/{}_submission_pickle.p'.format(submission_id)\n",
    "    pickle.dump(submission,open( submission_pickle_filename, \"wb\" ))\n",
    "    game_comments = pd.DataFrame(columns=['author',\n",
    "                                            'author_flair',\n",
    "                                            'score',\n",
    "                                            'comment_id',\n",
    "                                            'comment_name',\n",
    "                                            'comment_fullname',\n",
    "                                            'comment_is_root',\n",
    "                                            'comment_parent',\n",
    "                                            'comment_approved_at_utc',\n",
    "                                            'comment_approved_by',\n",
    "                                            'comment_created',\n",
    "                                            'comment_created_utc',\n",
    "                                            'comment_created_utc_datetime',\n",
    "                                            'comment_created_utc_date',\n",
    "                                            'comment_created_utc_time',\n",
    "                                            'comment_banned_at_utc',\n",
    "                                            'comment_banned_by',\n",
    "                                            'comment_depth',\n",
    "                                            'comment_num_reports',\n",
    "                                            'comment_body',\n",
    "                                            'comment_body_parsed',\n",
    "                                            'submission_id',\n",
    "                                            'submission_title',\n",
    "                                            'submission_created_utc'])\n",
    "    print(\"Pulling Comments for Thread {} with {} Comments\".format(submission.title, submission.num_comments))\n",
    "    submission.comments.replace_more(limit=None)\n",
    "\n",
    "    comment_queue = submission.comments[:]  # Seed with top-level\n",
    "    comment_number = 1\n",
    "    while comment_queue:\n",
    "        comment = comment_queue.pop(0)\n",
    "        try:\n",
    "            data = parse_comment(comment)\n",
    "            # Save Results\n",
    "            game_comments.loc[comment_number] = data\n",
    "        except:\n",
    "            pass\n",
    "\n",
    "        comment_queue.extend(comment.replies)\n",
    "        comment_number += 1\n",
    "    \n",
    "    now = dt.datetime.now()\n",
    "    print(\"Complete at: {}\".format(now.strftime(format='%d-%m-%y %H:%M:%S')))\n",
    "    return game_comments\n",
    "\n",
    "games = pd.read_csv('Game_Thread_List_Only.csv')\n",
    "threads = games['Thread ID'].tolist()\n",
    "\n",
    "for submissionid in threads:\n",
    "    try:\n",
    "        df = pull_comments_and_save(submissionid)\n",
    "        df.to_csv('data/{}.csv'.format(submissionid))\n",
    "        df.to_pickle('data/{}.pickle'.format(submissionid))\n",
    "    except:\n",
    "        print(\"Pull for {} failed!!\".format(submissionid))"
   ]
  },
  {
   "cell_type": "code",
   "execution_count": 2,
   "metadata": {},
   "outputs": [
    {
     "name": "stdout",
     "output_type": "stream",
     "text": [
      "Pulling Comments for Thread Game Thread: Washington Redskins (7-8) at New York Giants (2-13) with 612 Comments\n",
      "Complete at: 03-02-18 16:27:22\n"
     ]
    },
    {
     "ename": "NameError",
     "evalue": "name 'submissionid' is not defined",
     "output_type": "error",
     "traceback": [
      "\u001b[0;31m---------------------------------------------------------------------------\u001b[0m",
      "\u001b[0;31mNameError\u001b[0m                                 Traceback (most recent call last)",
      "\u001b[0;32m<ipython-input-2-751e8ce07c15>\u001b[0m in \u001b[0;36m<module>\u001b[0;34m()\u001b[0m\n\u001b[1;32m      1\u001b[0m \u001b[0mthread_id\u001b[0m \u001b[0;34m=\u001b[0m \u001b[0;34m'7n9q5s'\u001b[0m\u001b[0;34m\u001b[0m\u001b[0m\n\u001b[1;32m      2\u001b[0m \u001b[0mdf\u001b[0m \u001b[0;34m=\u001b[0m \u001b[0mpull_comments_and_save\u001b[0m\u001b[0;34m(\u001b[0m\u001b[0mthread_id\u001b[0m\u001b[0;34m)\u001b[0m\u001b[0;34m\u001b[0m\u001b[0m\n\u001b[0;32m----> 3\u001b[0;31m \u001b[0mdf\u001b[0m\u001b[0;34m.\u001b[0m\u001b[0mto_csv\u001b[0m\u001b[0;34m(\u001b[0m\u001b[0;34m'data/{}.csv'\u001b[0m\u001b[0;34m.\u001b[0m\u001b[0mformat\u001b[0m\u001b[0;34m(\u001b[0m\u001b[0msubmissionid\u001b[0m\u001b[0;34m)\u001b[0m\u001b[0;34m)\u001b[0m\u001b[0;34m\u001b[0m\u001b[0m\n\u001b[0m\u001b[1;32m      4\u001b[0m \u001b[0mdf\u001b[0m\u001b[0;34m.\u001b[0m\u001b[0mto_pickle\u001b[0m\u001b[0;34m(\u001b[0m\u001b[0;34m'data/{}.pickle'\u001b[0m\u001b[0;34m.\u001b[0m\u001b[0mformat\u001b[0m\u001b[0;34m(\u001b[0m\u001b[0msubmissionid\u001b[0m\u001b[0;34m)\u001b[0m\u001b[0;34m)\u001b[0m\u001b[0;34m\u001b[0m\u001b[0m\n",
      "\u001b[0;31mNameError\u001b[0m: name 'submissionid' is not defined"
     ]
    }
   ],
   "source": [
    "thread_id = '7n9q5s'\n",
    "df = pull_comments_and_save(thread_id)\n",
    "df.to_csv('data/{}.csv'.format(submissionid))\n",
    "df.to_pickle('data/{}.pickle'.format(submissionid))"
   ]
  },
  {
   "cell_type": "code",
   "execution_count": null,
   "metadata": {},
   "outputs": [],
   "source": []
  },
  {
   "cell_type": "code",
   "execution_count": 143,
   "metadata": {},
   "outputs": [],
   "source": []
  },
  {
   "cell_type": "code",
   "execution_count": 144,
   "metadata": {},
   "outputs": [
    {
     "name": "stdout",
     "output_type": "stream",
     "text": [
      "Pulling Comments for Thread Game Thread: Washington Redskins (7-8) at New York Giants (2-13) with 612 Comments\n",
      "Complete at: 03-02-18 14:31:36\n"
     ]
    }
   ],
   "source": [
    "df = pull_comments_and_save(thread_id)"
   ]
  },
  {
   "cell_type": "code",
   "execution_count": 146,
   "metadata": {},
   "outputs": [
    {
     "data": {
      "text/plain": [
       "Index(['author', 'author_flair', 'score', 'comment_id', 'comment_name',\n",
       "       'comment_fullname', 'comment_is_root', 'comment_parent',\n",
       "       'comment_approved_at_utc', 'comment_approved_by', 'comment_created',\n",
       "       'comment_created_utc', 'comment_created_utc_datetime',\n",
       "       'comment_created_utc_date', 'comment_created_utc_time',\n",
       "       'comment_banned_at_utc', 'comment_banned_by', 'comment_depth',\n",
       "       'comment_num_reports', 'comment_body', 'comment_body_parsed',\n",
       "       'submission_id', 'submission_title', 'submission_created_utc'],\n",
       "      dtype='object')"
      ]
     },
     "execution_count": 146,
     "metadata": {},
     "output_type": "execute_result"
    }
   ],
   "source": [
    "df.columns"
   ]
  },
  {
   "cell_type": "code",
   "execution_count": 132,
   "metadata": {},
   "outputs": [
    {
     "name": "stdout",
     "output_type": "stream",
     "text": [
      "dl4xlrs\n",
      "t1_dl4xlrs\n",
      "t1_dl4xlrs\n",
      "True\n",
      "6rggif\n",
      "None\n",
      "None\n",
      "1501836185.0\n",
      "1501807385.0\n",
      "None\n",
      "None\n",
      "0\n",
      "None\n",
      "I feel like I'm watching a video game with great graphics and physics but it doesn't have NFL licensing so they can't use real players likenesses\n",
      "I feel like I'm watching a video game with great graphics and physics but it doesn't have NFL licensing so they can't use real players likenesses\n",
      "6rggif\n",
      "Game Thread: Arizona Cardinals (0-0) at Dallas Cowboys (0-0)\n",
      "1501803005.0\n"
     ]
    }
   ],
   "source": [
    "print(comment)\n",
    "print(comment.name)\n",
    "print(comment.fullname)\n",
    "print(comment.is_root)\n",
    "print(comment.parent())\n",
    "print(comment.approved_at_utc)\n",
    "print(comment.approved_by)\n",
    "print(comment.created)\n",
    "print(comment.created_utc)\n",
    "created_utc_datetime = dt.datetime.fromtimestamp(comment.created_utc)\n",
    "created_utc_date = created_utc_datetime.strftime(format='%d-%m-%y')\n",
    "created_utc_time = created_utc_datetime.strftime(format='%H:%M:%S')\n",
    "print(comment.banned_at_utc)\n",
    "print(comment.banned_by)\n",
    "print(comment.depth)\n",
    "print(comment.num_reports)\n",
    "print(comment.body)\n",
    "print(comment.body.replace('\\n',' ').replace('\\t',' ').replace(',',' '))\n",
    "# Submission Details\n",
    "print(comment.submission.id)\n",
    "print(comment.submission.title)\n",
    "print(comment.submission.created_utc)"
   ]
  },
  {
   "cell_type": "code",
   "execution_count": 10,
   "metadata": {},
   "outputs": [],
   "source": [
    "submission = reddit.submission(id='6rggif')"
   ]
  },
  {
   "cell_type": "code",
   "execution_count": 16,
   "metadata": {},
   "outputs": [],
   "source": [
    "comment = submission.comments[0]"
   ]
  },
  {
   "cell_type": "markdown",
   "metadata": {},
   "source": [
    "# Try to look up timestamps after the fact"
   ]
  },
  {
   "cell_type": "code",
   "execution_count": 51,
   "metadata": {},
   "outputs": [],
   "source": [
    "game_comments = pd.read_pickle('data/Data_notimestamps/5sa4s4.pickle')"
   ]
  },
  {
   "cell_type": "code",
   "execution_count": 64,
   "metadata": {},
   "outputs": [
    {
     "data": {
      "text/plain": [
       "'dddh0kf'"
      ]
     },
     "execution_count": 64,
     "metadata": {},
     "output_type": "execute_result"
    }
   ],
   "source": [
    "game_comments['Com32ment Name'][1].split('_')[1]"
   ]
  },
  {
   "cell_type": "code",
   "execution_count": 72,
   "metadata": {},
   "outputs": [],
   "source": [
    "def get_utc(row):\n",
    "    created_utc = reddit.comment(row['Comment Name'][1].split('_')[1]).created_utc\n",
    "    return created_utc"
   ]
  },
  {
   "cell_type": "code",
   "execution_count": 77,
   "metadata": {},
   "outputs": [],
   "source": [
    "game_comments_small = game_comments.head(50)"
   ]
  },
  {
   "cell_type": "code",
   "execution_count": null,
   "metadata": {},
   "outputs": [],
   "source": []
  },
  {
   "cell_type": "code",
   "execution_count": null,
   "metadata": {},
   "outputs": [],
   "source": []
  },
  {
   "cell_type": "code",
   "execution_count": null,
   "metadata": {},
   "outputs": [],
   "source": []
  },
  {
   "cell_type": "code",
   "execution_count": null,
   "metadata": {},
   "outputs": [],
   "source": []
  },
  {
   "cell_type": "markdown",
   "metadata": {},
   "source": [
    "# Test Script"
   ]
  },
  {
   "cell_type": "code",
   "execution_count": 4,
   "metadata": {},
   "outputs": [],
   "source": [
    "import praw\n",
    "import pandas as pd\n",
    "import configparser\n",
    "import numpy as np\n",
    "import datetime as dt\n",
    "import pickle\n",
    "import logging\n",
    "\n",
    "logging.basicConfig(filename='pull_comments.log',\n",
    "                    level=logging.DEBUG,\n",
    "                    format='%(asctime)s %(message)s',\n",
    "                    datefmt='%m/%d/%Y %I:%M:%S %p')\n",
    "\n",
    "\n",
    "# Setup Config for Reddit Data\n",
    "# Store username/password data in reddit.config file\n",
    "config = configparser.ConfigParser()\n",
    "config.read('../reddit.config')\n",
    "\n",
    "reddit = praw.Reddit(client_id=config['REDDIT_CONFIG']['client_id'],\n",
    "                     client_secret=config['REDDIT_CONFIG']['client_secret'],\n",
    "                     password=config['REDDIT_CONFIG']['password'],\n",
    "                     user_agent=config['REDDIT_CONFIG']['user_agent'],\n",
    "                     username=config['REDDIT_CONFIG']['username'])\n",
    "\n",
    "\n",
    "def parse_comment(comment):\n",
    "    try:\n",
    "        author = comment.author.name\n",
    "        author_flair = comment.author_flair_text\n",
    "    except:\n",
    "        author = 'None'\n",
    "        author_flair = 'None'\n",
    "    score = comment.score\n",
    "\n",
    "    comment_id = comment\n",
    "    comment_name = comment.name\n",
    "    comment_fullname = comment.fullname\n",
    "    comment_is_root = comment.is_root\n",
    "    comment_parent = comment.parent()\n",
    "    comment_approved_at_utc = comment.approved_at_utc\n",
    "    comment_approved_by = comment.approved_by\n",
    "    comment_created = comment.created\n",
    "    comment_created_utc = comment.created_utc\n",
    "    comment_created_utc_datetime = dt.datetime.fromtimestamp(comment.created_utc)\n",
    "    comment_created_utc_date = comment_created_utc_datetime.strftime(format='%d-%m-%y')\n",
    "    comment_created_utc_time = comment_created_utc_datetime.strftime(format='%H:%M:%S')\n",
    "    comment_banned_at_utc = comment.banned_at_utc\n",
    "    comment_banned_by = comment.banned_by\n",
    "    comment_depth = comment.depth\n",
    "    comment_num_reports = comment.num_reports\n",
    "    comment_body = comment.body\n",
    "    comment_body_parsed = comment.body.replace('\\n',' ').replace('\\t',' ').replace(',',' ')\n",
    "    # Submission Details\n",
    "    submission_id = comment.submission.id\n",
    "    submission_title = comment.submission.title\n",
    "    submission_created_utc = comment.submission.created_utc\n",
    "\n",
    "    data = [author,\n",
    "            author_flair,\n",
    "            score,\n",
    "            comment_id,\n",
    "            comment_name,\n",
    "            comment_fullname,\n",
    "            comment_is_root,\n",
    "            comment_parent,\n",
    "            comment_approved_at_utc,\n",
    "            comment_approved_by,\n",
    "            comment_created,\n",
    "            comment_created_utc,\n",
    "            comment_created_utc_datetime,\n",
    "            comment_created_utc_date,\n",
    "            comment_created_utc_time,\n",
    "            comment_banned_at_utc,\n",
    "            comment_banned_by,\n",
    "            comment_depth,\n",
    "            comment_num_reports,\n",
    "            comment_body,\n",
    "            comment_body_parsed,\n",
    "            submission_id,\n",
    "            submission_title,\n",
    "            submission_created_utc]\n",
    "\n",
    "    return data\n",
    "\n",
    "def pull_comments_and_save(submission_id):\n",
    "    submission = reddit.submission(id=submission_id)\n",
    "    game_comments = pd.DataFrame(columns=['author',\n",
    "                                            'author_flair',\n",
    "                                            'score',\n",
    "                                            'comment_id',\n",
    "                                            'comment_name',\n",
    "                                            'comment_fullname',\n",
    "                                            'comment_is_root',\n",
    "                                            'comment_parent',\n",
    "                                            'comment_approved_at_utc',\n",
    "                                            'comment_approved_by',\n",
    "                                            'comment_created',\n",
    "                                            'comment_created_utc',\n",
    "                                            'comment_created_utc_datetime',\n",
    "                                            'comment_created_utc_date',\n",
    "                                            'comment_created_utc_time',\n",
    "                                            'comment_banned_at_utc',\n",
    "                                            'comment_banned_by',\n",
    "                                            'comment_depth',\n",
    "                                            'comment_num_reports',\n",
    "                                            'comment_body',\n",
    "                                            'comment_body_parsed',\n",
    "                                            'submission_id',\n",
    "                                            'submission_title',\n",
    "                                            'submission_created_utc'])\n",
    "    logging.info(\"ROBSLOG Pulling Comments for Thread {} with {} Comments\".format(submission.title, submission.num_comments))\n",
    "    submission.comments.replace_more(limit=None)\n",
    "\n",
    "    submission_pickle_filename = 'data/{}_submission_pickle.p'.format(submission_id)\n",
    "    pickle.dump(submission,open( submission_pickle_filename, \"wb\" ))\n",
    "\n",
    "    comment_queue = submission.comments[:]  # Seed with top-level\n",
    "    comment_number = 1\n",
    "\n",
    "    while comment_queue:\n",
    "        comment = comment_queue.pop(0)\n",
    "        try:\n",
    "            data = parse_comment(comment)\n",
    "            # Save Results\n",
    "            game_comments.loc[comment_number] = data\n",
    "        except:\n",
    "            pass\n",
    "            logging.warning('ROBSLOG Count pull comment{}'.format(comment))\n",
    "\n",
    "        comment_queue.extend(comment.replies)\n",
    "        comment_number += 1\n",
    "\n",
    "    now = dt.datetime.now()\n",
    "    logging.info(\"ROBSLOG Complete at: {}\".format(now.strftime(format='%d-%m-%y %H:%M:%S')))\n",
    "    return game_comments\n",
    "\n",
    "games = pd.read_csv('Game_Thread_List_Only.csv')\n",
    "threads = games['Thread ID'].tolist()\n",
    "\n",
    "threads = ['6xbdec']\n",
    "for submissionid in threads:\n",
    "    try:\n",
    "        df = pull_comments_and_save(submissionid)\n",
    "        df.to_csv('data/{}_parsed_comments.csv'.format(submissionid))\n",
    "        df.to_pickle('data/{}_parsed_comments.pickle'.format(submissionid))\n",
    "    except:\n",
    "        logging.warning(\"ROBSLOG Pull for {} failed!!\".format(submissionid))"
   ]
  },
  {
   "cell_type": "code",
   "execution_count": 7,
   "metadata": {},
   "outputs": [],
   "source": [
    "games = games.sort_values('Number of Comments')"
   ]
  },
  {
   "cell_type": "code",
   "execution_count": null,
   "metadata": {},
   "outputs": [],
   "source": []
  }
 ],
 "metadata": {
  "kernelspec": {
   "display_name": "Python 3",
   "language": "python",
   "name": "python3"
  },
  "language_info": {
   "codemirror_mode": {
    "name": "ipython",
    "version": 3
   },
   "file_extension": ".py",
   "mimetype": "text/x-python",
   "name": "python",
   "nbconvert_exporter": "python",
   "pygments_lexer": "ipython3",
   "version": "3.6.4"
  }
 },
 "nbformat": 4,
 "nbformat_minor": 2
}
