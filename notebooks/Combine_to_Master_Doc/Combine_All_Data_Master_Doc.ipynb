{
 "cells": [
  {
   "cell_type": "code",
   "execution_count": 1,
   "metadata": {},
   "outputs": [
    {
     "name": "stdout",
     "output_type": "stream",
     "text": [
      "Writing combine.py\n"
     ]
    }
   ],
   "source": [
    "%%writefile combine.py\n",
    "\n",
    "import pandas as pd\n",
    "import os\n",
    "\n",
    "mypath = '/home/robmulla/Documents/W266/w266_final_project/notebooks/Scrape_All_Game_Threads/data'\n",
    "onlyfiles = [f for f in os.listdir(mypath) if f.endswith('pickle')]\n",
    "\n",
    "combined_df = pd.DataFrame()\n",
    "\n",
    "for file in onlyfiles:\n",
    "    df = pd.read_pickle(mypath+'/'+file)\n",
    "    print(file)\n",
    "    print(df.shape)\n",
    "    combined_df = combined_df.append(df)\n",
    "    \n",
    "print(combined_df.shape)\n",
    "combined_db.to_pickle('Combined.pickle')"
   ]
  },
  {
   "cell_type": "code",
   "execution_count": null,
   "metadata": {},
   "outputs": [],
   "source": []
  }
 ],
 "metadata": {
  "kernelspec": {
   "display_name": "Python 3",
   "language": "python",
   "name": "python3"
  },
  "language_info": {
   "codemirror_mode": {
    "name": "ipython",
    "version": 3
   },
   "file_extension": ".py",
   "mimetype": "text/x-python",
   "name": "python",
   "nbconvert_exporter": "python",
   "pygments_lexer": "ipython3",
   "version": "3.6.4"
  }
 },
 "nbformat": 4,
 "nbformat_minor": 2
}
