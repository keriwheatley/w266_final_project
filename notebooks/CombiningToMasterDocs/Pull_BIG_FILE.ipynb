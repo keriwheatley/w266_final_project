{
 "cells": [
  {
   "cell_type": "code",
   "execution_count": 1,
   "metadata": {},
   "outputs": [],
   "source": [
    "import pandas as pd"
   ]
  },
  {
   "cell_type": "code",
   "execution_count": 3,
   "metadata": {},
   "outputs": [],
   "source": [
    "df = pd.read_hdf('Combined_Comments-5.h5','')"
   ]
  },
  {
   "cell_type": "code",
   "execution_count": 4,
   "metadata": {},
   "outputs": [
    {
     "data": {
      "text/html": [
       "<div>\n",
       "<style>\n",
       "    .dataframe thead tr:only-child th {\n",
       "        text-align: right;\n",
       "    }\n",
       "\n",
       "    .dataframe thead th {\n",
       "        text-align: left;\n",
       "    }\n",
       "\n",
       "    .dataframe tbody tr th {\n",
       "        vertical-align: top;\n",
       "    }\n",
       "</style>\n",
       "<table border=\"1\" class=\"dataframe\">\n",
       "  <thead>\n",
       "    <tr style=\"text-align: right;\">\n",
       "      <th></th>\n",
       "      <th>author</th>\n",
       "      <th>author_flair</th>\n",
       "      <th>score</th>\n",
       "      <th>comment_id</th>\n",
       "      <th>comment_name</th>\n",
       "      <th>comment_fullname</th>\n",
       "      <th>comment_is_root</th>\n",
       "      <th>comment_parent</th>\n",
       "      <th>comment_approved_at_utc</th>\n",
       "      <th>comment_approved_by</th>\n",
       "      <th>...</th>\n",
       "      <th>comment_created_utc_time</th>\n",
       "      <th>comment_banned_at_utc</th>\n",
       "      <th>comment_banned_by</th>\n",
       "      <th>comment_depth</th>\n",
       "      <th>comment_num_reports</th>\n",
       "      <th>comment_body</th>\n",
       "      <th>comment_body_parsed</th>\n",
       "      <th>submission_id</th>\n",
       "      <th>submission_title</th>\n",
       "      <th>submission_created_utc</th>\n",
       "    </tr>\n",
       "  </thead>\n",
       "  <tbody>\n",
       "    <tr>\n",
       "      <th>1</th>\n",
       "      <td>StefartMolynpoo</td>\n",
       "      <td>None</td>\n",
       "      <td>1367</td>\n",
       "      <td>dtqxbei</td>\n",
       "      <td>t1_dtqxbei</td>\n",
       "      <td>t1_dtqxbei</td>\n",
       "      <td>True</td>\n",
       "      <td>7vb5tk</td>\n",
       "      <td>None</td>\n",
       "      <td>None</td>\n",
       "      <td>...</td>\n",
       "      <td>20:35:36</td>\n",
       "      <td>None</td>\n",
       "      <td>None</td>\n",
       "      <td>0</td>\n",
       "      <td>None</td>\n",
       "      <td>That kid just wrote himself into GIF history a...</td>\n",
       "      <td>That kid just wrote himself into GIF history a...</td>\n",
       "      <td>7vb5tk</td>\n",
       "      <td>Super Bowl LII Game Thread: Philadelphia Eagle...</td>\n",
       "      <td>1.517793e+09</td>\n",
       "    </tr>\n",
       "    <tr>\n",
       "      <th>2</th>\n",
       "      <td>xXBlaze52</td>\n",
       "      <td>Raiders</td>\n",
       "      <td>1286</td>\n",
       "      <td>dtqxgin</td>\n",
       "      <td>t1_dtqxgin</td>\n",
       "      <td>t1_dtqxgin</td>\n",
       "      <td>True</td>\n",
       "      <td>7vb5tk</td>\n",
       "      <td>None</td>\n",
       "      <td>None</td>\n",
       "      <td>...</td>\n",
       "      <td>20:38:08</td>\n",
       "      <td>None</td>\n",
       "      <td>None</td>\n",
       "      <td>0</td>\n",
       "      <td>None</td>\n",
       "      <td>Don't let the Eagles 10 point lead let you for...</td>\n",
       "      <td>Don't let the Eagles 10 point lead let you for...</td>\n",
       "      <td>7vb5tk</td>\n",
       "      <td>Super Bowl LII Game Thread: Philadelphia Eagle...</td>\n",
       "      <td>1.517793e+09</td>\n",
       "    </tr>\n",
       "    <tr>\n",
       "      <th>3</th>\n",
       "      <td>Genocide_Me_Captain</td>\n",
       "      <td>None</td>\n",
       "      <td>488</td>\n",
       "      <td>dtqy2h1</td>\n",
       "      <td>t1_dtqy2h1</td>\n",
       "      <td>t1_dtqy2h1</td>\n",
       "      <td>True</td>\n",
       "      <td>7vb5tk</td>\n",
       "      <td>None</td>\n",
       "      <td>None</td>\n",
       "      <td>...</td>\n",
       "      <td>20:48:39</td>\n",
       "      <td>None</td>\n",
       "      <td>None</td>\n",
       "      <td>0</td>\n",
       "      <td>None</td>\n",
       "      <td>I see every commercial as Tide now. First they...</td>\n",
       "      <td>I see every commercial as Tide now. First they...</td>\n",
       "      <td>7vb5tk</td>\n",
       "      <td>Super Bowl LII Game Thread: Philadelphia Eagle...</td>\n",
       "      <td>1.517793e+09</td>\n",
       "    </tr>\n",
       "    <tr>\n",
       "      <th>4</th>\n",
       "      <td>MELIEKMARBLEMOBIES</td>\n",
       "      <td>None</td>\n",
       "      <td>1510</td>\n",
       "      <td>dtqy8lf</td>\n",
       "      <td>t1_dtqy8lf</td>\n",
       "      <td>t1_dtqy8lf</td>\n",
       "      <td>True</td>\n",
       "      <td>7vb5tk</td>\n",
       "      <td>None</td>\n",
       "      <td>None</td>\n",
       "      <td>...</td>\n",
       "      <td>20:51:37</td>\n",
       "      <td>None</td>\n",
       "      <td>None</td>\n",
       "      <td>0</td>\n",
       "      <td>None</td>\n",
       "      <td>Tide is the only company who went out to make ...</td>\n",
       "      <td>Tide is the only company who went out to make ...</td>\n",
       "      <td>7vb5tk</td>\n",
       "      <td>Super Bowl LII Game Thread: Philadelphia Eagle...</td>\n",
       "      <td>1.517793e+09</td>\n",
       "    </tr>\n",
       "    <tr>\n",
       "      <th>5</th>\n",
       "      <td>shaqalicious</td>\n",
       "      <td>Bears</td>\n",
       "      <td>288</td>\n",
       "      <td>dtqyuh2</td>\n",
       "      <td>t1_dtqyuh2</td>\n",
       "      <td>t1_dtqyuh2</td>\n",
       "      <td>True</td>\n",
       "      <td>7vb5tk</td>\n",
       "      <td>None</td>\n",
       "      <td>None</td>\n",
       "      <td>...</td>\n",
       "      <td>21:01:56</td>\n",
       "      <td>None</td>\n",
       "      <td>None</td>\n",
       "      <td>0</td>\n",
       "      <td>None</td>\n",
       "      <td>martin luther king had a dream.. a dream of dr...</td>\n",
       "      <td>martin luther king had a dream.. a dream of dr...</td>\n",
       "      <td>7vb5tk</td>\n",
       "      <td>Super Bowl LII Game Thread: Philadelphia Eagle...</td>\n",
       "      <td>1.517793e+09</td>\n",
       "    </tr>\n",
       "  </tbody>\n",
       "</table>\n",
       "<p>5 rows × 24 columns</p>\n",
       "</div>"
      ],
      "text/plain": [
       "                author author_flair score comment_id comment_name  \\\n",
       "1      StefartMolynpoo         None  1367    dtqxbei   t1_dtqxbei   \n",
       "2            xXBlaze52      Raiders  1286    dtqxgin   t1_dtqxgin   \n",
       "3  Genocide_Me_Captain         None   488    dtqy2h1   t1_dtqy2h1   \n",
       "4   MELIEKMARBLEMOBIES         None  1510    dtqy8lf   t1_dtqy8lf   \n",
       "5         shaqalicious        Bears   288    dtqyuh2   t1_dtqyuh2   \n",
       "\n",
       "  comment_fullname comment_is_root comment_parent comment_approved_at_utc  \\\n",
       "1       t1_dtqxbei            True         7vb5tk                    None   \n",
       "2       t1_dtqxgin            True         7vb5tk                    None   \n",
       "3       t1_dtqy2h1            True         7vb5tk                    None   \n",
       "4       t1_dtqy8lf            True         7vb5tk                    None   \n",
       "5       t1_dtqyuh2            True         7vb5tk                    None   \n",
       "\n",
       "  comment_approved_by          ...            comment_created_utc_time  \\\n",
       "1                None          ...                            20:35:36   \n",
       "2                None          ...                            20:38:08   \n",
       "3                None          ...                            20:48:39   \n",
       "4                None          ...                            20:51:37   \n",
       "5                None          ...                            21:01:56   \n",
       "\n",
       "   comment_banned_at_utc comment_banned_by comment_depth comment_num_reports  \\\n",
       "1                   None              None             0                None   \n",
       "2                   None              None             0                None   \n",
       "3                   None              None             0                None   \n",
       "4                   None              None             0                None   \n",
       "5                   None              None             0                None   \n",
       "\n",
       "                                        comment_body  \\\n",
       "1  That kid just wrote himself into GIF history a...   \n",
       "2  Don't let the Eagles 10 point lead let you for...   \n",
       "3  I see every commercial as Tide now. First they...   \n",
       "4  Tide is the only company who went out to make ...   \n",
       "5  martin luther king had a dream.. a dream of dr...   \n",
       "\n",
       "                                 comment_body_parsed submission_id  \\\n",
       "1  That kid just wrote himself into GIF history a...        7vb5tk   \n",
       "2  Don't let the Eagles 10 point lead let you for...        7vb5tk   \n",
       "3  I see every commercial as Tide now. First they...        7vb5tk   \n",
       "4  Tide is the only company who went out to make ...        7vb5tk   \n",
       "5  martin luther king had a dream.. a dream of dr...        7vb5tk   \n",
       "\n",
       "                                    submission_title submission_created_utc  \n",
       "1  Super Bowl LII Game Thread: Philadelphia Eagle...           1.517793e+09  \n",
       "2  Super Bowl LII Game Thread: Philadelphia Eagle...           1.517793e+09  \n",
       "3  Super Bowl LII Game Thread: Philadelphia Eagle...           1.517793e+09  \n",
       "4  Super Bowl LII Game Thread: Philadelphia Eagle...           1.517793e+09  \n",
       "5  Super Bowl LII Game Thread: Philadelphia Eagle...           1.517793e+09  \n",
       "\n",
       "[5 rows x 24 columns]"
      ]
     },
     "execution_count": 4,
     "metadata": {},
     "output_type": "execute_result"
    }
   ],
   "source": [
    "df.head()"
   ]
  },
  {
   "cell_type": "code",
   "execution_count": 5,
   "metadata": {},
   "outputs": [
    {
     "data": {
      "text/plain": [
       "51054"
      ]
     },
     "execution_count": 5,
     "metadata": {},
     "output_type": "execute_result"
    }
   ],
   "source": [
    "len(df)"
   ]
  },
  {
   "cell_type": "code",
   "execution_count": 7,
   "metadata": {},
   "outputs": [
    {
     "name": "stdout",
     "output_type": "stream",
     "text": [
      "Collecting h5py\n",
      "  Downloading h5py-2.7.1-cp36-cp36m-macosx_10_6_intel.macosx_10_9_intel.macosx_10_9_x86_64.macosx_10_10_intel.macosx_10_10_x86_64.whl (4.7MB)\n",
      "\u001b[K    100% |████████████████████████████████| 4.8MB 349kB/s eta 0:00:01\n",
      "\u001b[?25hRequirement already satisfied: six in /Users/rmull710/anaconda3/envs/w266/lib/python3.6/site-packages (from h5py)\n",
      "Requirement already satisfied: numpy>=1.7 in /Users/rmull710/anaconda3/envs/w266/lib/python3.6/site-packages (from h5py)\n",
      "Installing collected packages: h5py\n",
      "Successfully installed h5py-2.7.1\n"
     ]
    }
   ],
   "source": [
    "!pip install h5py"
   ]
  },
  {
   "cell_type": "code",
   "execution_count": 21,
   "metadata": {},
   "outputs": [
    {
     "name": "stdout",
     "output_type": "stream",
     "text": [
      "KeysView(<HDF5 file \"Combined_Comments-5.h5\" (mode r+)>)\n",
      "Combined_Comments-5.h5\n",
      "<Attributes of HDF5 object at 4971616680>\n"
     ]
    }
   ],
   "source": [
    "import h5py\n",
    "\n",
    "with h5py.File(\"Combined_Comments-5.h5\") as f:\n",
    "    print(f.keys())  # works like a dict\n",
    "    print(f.filename)\n",
    "    print(f.attrs())"
   ]
  },
  {
   "cell_type": "code",
   "execution_count": null,
   "metadata": {},
   "outputs": [],
   "source": [
    "f.attrs"
   ]
  }
 ],
 "metadata": {
  "kernelspec": {
   "display_name": "Python 3",
   "language": "python",
   "name": "python3"
  },
  "language_info": {
   "codemirror_mode": {
    "name": "ipython",
    "version": 3
   },
   "file_extension": ".py",
   "mimetype": "text/x-python",
   "name": "python",
   "nbconvert_exporter": "python",
   "pygments_lexer": "ipython3",
   "version": "3.6.4"
  }
 },
 "nbformat": 4,
 "nbformat_minor": 2
}
