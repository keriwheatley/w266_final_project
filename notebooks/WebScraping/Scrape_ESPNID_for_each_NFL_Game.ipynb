{
 "cells": [
  {
   "cell_type": "markdown",
   "metadata": {},
   "source": [
    "# Pull ESPN Game IDs for 2017 NFL Season"
   ]
  },
  {
   "cell_type": "code",
   "execution_count": 5,
   "metadata": {},
   "outputs": [],
   "source": [
    "import requests\n",
    "from bs4 import BeautifulSoup"
   ]
  },
  {
   "cell_type": "code",
   "execution_count": 6,
   "metadata": {},
   "outputs": [],
   "source": [
    "first_gameid = 400951566"
   ]
  },
  {
   "cell_type": "code",
   "execution_count": 7,
   "metadata": {},
   "outputs": [],
   "source": [
    "# Collect first page of artists’ list\n",
    "page = requests.get('http://www.espn.com/nfl/game?gameId={}'.format (first_gameid))"
   ]
  },
  {
   "cell_type": "code",
   "execution_count": 8,
   "metadata": {},
   "outputs": [],
   "source": [
    "# Create a BeautifulSoup object\n",
    "soup = BeautifulSoup(page.text, 'html.parser')"
   ]
  },
  {
   "cell_type": "code",
   "execution_count": 15,
   "metadata": {},
   "outputs": [],
   "source": [
    "results = soup.findAll(name='title')"
   ]
  },
  {
   "cell_type": "code",
   "execution_count": 20,
   "metadata": {},
   "outputs": [
    {
     "data": {
      "text/plain": [
       "<title>Chiefs vs. Patriots - Game Summary - September 7, 2017 - ESPN</title>"
      ]
     },
     "execution_count": 20,
     "metadata": {},
     "output_type": "execute_result"
    }
   ],
   "source": [
    "results[0]"
   ]
  },
  {
   "cell_type": "code",
   "execution_count": 30,
   "metadata": {},
   "outputs": [
    {
     "name": "stdout",
     "output_type": "stream",
     "text": [
      "<title>Chiefs vs. Patriots - Game Summary - September 7, 2017 - ESPN</title>\n",
      "<title>Jets vs. Bills - Game Summary - September 10, 2017 - ESPN</title>\n",
      "<title>Rams vs. 49ers - Game Summary - September 21, 2017 - ESPN</title>\n",
      "<title>Vikings vs. Lions - Game Summary - November 23, 2017 - ESPN</title>\n",
      "<title>Falcons vs. Bears - Game Summary - September 10, 2017 - ESPN</title>\n",
      "<title>Chiefs vs. Raiders - Game Summary - October 19, 2017 - ESPN</title>\n",
      "<title>Ravens vs. Bengals - Game Summary - September 10, 2017 - ESPN</title>\n",
      "<title>Chargers vs. Cowboys - Game Summary - November 23, 2017 - ESPN</title>\n",
      "<title>Steelers vs. Browns - Game Summary - September 10, 2017 - ESPN</title>\n",
      "<title>Buccaneers vs. Bills - Game Summary - October 22, 2017 - ESPN</title>\n"
     ]
    }
   ],
   "source": [
    "first_gameid = 400951566\n",
    "\n",
    "for x in range(10):\n",
    "    if x == 0:\n",
    "        gameid = first_gameid\n",
    "    else:\n",
    "        gameid += 1\n",
    "    page = requests.get('http://www.espn.com/nfl/game?gameId={}'.format (gameid))\n",
    "    soup = BeautifulSoup(page.text, 'html.parser')\n",
    "    results = soup.findAll(name='title')\n",
    "    print(results[0])"
   ]
  },
  {
   "cell_type": "code",
   "execution_count": null,
   "metadata": {},
   "outputs": [],
   "source": []
  }
 ],
 "metadata": {
  "kernelspec": {
   "display_name": "Python 3",
   "language": "python",
   "name": "python3"
  },
  "language_info": {
   "codemirror_mode": {
    "name": "ipython",
    "version": 3
   },
   "file_extension": ".py",
   "mimetype": "text/x-python",
   "name": "python",
   "nbconvert_exporter": "python",
   "pygments_lexer": "ipython3",
   "version": "3.6.4"
  }
 },
 "nbformat": 4,
 "nbformat_minor": 2
}
