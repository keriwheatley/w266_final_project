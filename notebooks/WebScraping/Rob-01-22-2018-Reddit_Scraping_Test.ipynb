{
 "cells": [
  {
   "cell_type": "markdown",
   "metadata": {},
   "source": [
    "# Test Scraping Reddit Comments"
   ]
  },
  {
   "cell_type": "code",
   "execution_count": 127,
   "metadata": {},
   "outputs": [],
   "source": [
    "import praw\n",
    "import pandas as pd\n",
    "import configparser\n",
    "import numpy as np"
   ]
  },
  {
   "cell_type": "markdown",
   "metadata": {},
   "source": [
    "## Pull Username and password from config file"
   ]
  },
  {
   "cell_type": "code",
   "execution_count": 53,
   "metadata": {},
   "outputs": [
    {
     "data": {
      "text/plain": [
       "['reddit.config']"
      ]
     },
     "execution_count": 53,
     "metadata": {},
     "output_type": "execute_result"
    }
   ],
   "source": [
    "config = configparser.ConfigParser()\n",
    "config.read('reddit.config')"
   ]
  },
  {
   "cell_type": "markdown",
   "metadata": {},
   "source": [
    "# Setup PRAW Object"
   ]
  },
  {
   "cell_type": "code",
   "execution_count": 54,
   "metadata": {},
   "outputs": [],
   "source": [
    "reddit = praw.Reddit(client_id=config['REDDIT_CONFIG']['client_id'],\n",
    "                     client_secret=config['REDDIT_CONFIG']['client_secret'],\n",
    "                     password=config['REDDIT_CONFIG']['password'],\n",
    "                     user_agent=config['REDDIT_CONFIG']['user_agent'],\n",
    "                     username=config['REDDIT_CONFIG']['username'])"
   ]
  },
  {
   "cell_type": "code",
   "execution_count": 55,
   "metadata": {},
   "outputs": [
    {
     "name": "stdout",
     "output_type": "stream",
     "text": [
      "Ask Anything Monday - Weekly Thread\n",
      "Python list and len()\n",
      "Python Quiz\n",
      "send single message with telegram (or other?)\n",
      "Overcoming CPython's GIL\n",
      "Adding a variable to a string?\n",
      "Raspberry Pi Python Email Parser\n",
      "CV for Python Trainee\n",
      "For loop correctly identifying letters in words, but not correctly changing letters\n",
      "Please let me know a step by step learning path that I can follow and at the end of sessions, I can be reasonably confident of my abilities in python. I know programming but OOPS concepts scare the shit out of me\n"
     ]
    }
   ],
   "source": [
    "for submission in reddit.subreddit('learnpython').hot(limit=10):\n",
    "    print(submission.title)"
   ]
  },
  {
   "cell_type": "markdown",
   "metadata": {},
   "source": [
    "### Look at CFB Subreddit"
   ]
  },
  {
   "cell_type": "code",
   "execution_count": 56,
   "metadata": {},
   "outputs": [],
   "source": [
    "subreddit = reddit.subreddit('cfb')"
   ]
  },
  {
   "cell_type": "code",
   "execution_count": 62,
   "metadata": {},
   "outputs": [
    {
     "name": "stdout",
     "output_type": "stream",
     "text": [
      "CFB\n",
      "The Internet's Tailgate\n"
     ]
    }
   ],
   "source": [
    "print(subreddit.display_name)  # Output: redditdev\n",
    "print(subreddit.title)         # Output: reddit Development"
   ]
  },
  {
   "cell_type": "markdown",
   "metadata": {},
   "source": [
    "## List Generator of Posts"
   ]
  },
  {
   "cell_type": "code",
   "execution_count": 65,
   "metadata": {},
   "outputs": [
    {
     "name": "stdout",
     "output_type": "stream",
     "text": [
      "3 of 4 playoff teams return their starting QBs - Bama, Georgia, Clemson. How many of those 3 will finish the season with the starting job?\n",
      "538\n",
      "7s5s49\n",
      "https://www.reddit.com/r/CFB/comments/7s5s49/3_of_4_playoff_teams_return_their_starting_qbs/\n",
      "GT Will Unveil New Gold, Adidas Branding This Spring\n",
      "200\n",
      "7s5w52\n",
      "http://www.myajc.com/sports/college/georgia-tech-selects-its-new-gold/gUJWaMBrGVW8j9zI15vz8I/\n",
      "Pretty cool video of a Bear Bryant speech to incoming freshmen.\n",
      "207\n",
      "7s5qnx\n",
      "https://m.youtube.com/watch?v=WVzETb9FSMw\n",
      "The 12 worst college football games of 2017\n",
      "162\n",
      "7s64jb\n",
      "https://www.sbnation.com/college-football/2018/1/22/16905578/ncaa-football-2017-season-games\n",
      "Shane Beamer is leaving Georgia to become assistant head coach for the offense at Oklahoma\n",
      "57\n",
      "7s7u9u\n",
      "https://www.reddit.com/r/CFB/comments/7s7u9u/shane_beamer_is_leaving_georgia_to_become/\n"
     ]
    }
   ],
   "source": [
    "for submission in subreddit.hot(limit=5):\n",
    "    print(submission.title)  # Output: the submission's title\n",
    "    print(submission.score)  # Output: the submission's score\n",
    "    print(submission.id)     # Output: the submission's ID\n",
    "    print(submission.url)    # Output: the URL the submission points to"
   ]
  },
  {
   "cell_type": "markdown",
   "metadata": {},
   "source": [
    "# View Comments"
   ]
  },
  {
   "cell_type": "code",
   "execution_count": 159,
   "metadata": {
    "scrolled": false
   },
   "outputs": [
    {
     "name": "stdout",
     "output_type": "stream",
     "text": [
      "It's always the plainest of the buttons.\n",
      "[Trusted] Download\n",
      "\n",
      "[Fast] Download \n",
      "\n",
      "ALWAYS NEITHER OF THESE \n",
      "\"i must have chosen correct cause i got a congratulation saying i was the millionth person to download the file and to click here to claim my free ipad\" \n",
      "It is said that he who holds the Sacred Chalice of Ad-block shall find the One Button.\n",
      "If you need help, just use the Ask toolbar!\n"
     ]
    }
   ],
   "source": [
    "submission = reddit.submission(id='3g1jfi')\n",
    "line = 0\n",
    "for top_level_comment in submission.comments:\n",
    "    line += 1\n",
    "    print(top_level_comment.body)\n",
    "    if line == 5:\n",
    "        break"
   ]
  },
  {
   "cell_type": "markdown",
   "metadata": {},
   "source": [
    "# CFB Post game thread comments"
   ]
  },
  {
   "cell_type": "code",
   "execution_count": 68,
   "metadata": {},
   "outputs": [],
   "source": [
    "submission = reddit.submission(url='https://www.reddit.com/r/CFB/comments/7p4vrr/postgame_thread_cfp_ncg_alabama_defeats_georgia/')"
   ]
  },
  {
   "cell_type": "code",
   "execution_count": 69,
   "metadata": {},
   "outputs": [
    {
     "name": "stdout",
     "output_type": "stream",
     "text": [
      "=============NEW COMMMENT=============\n",
      "Comment ID: dsem3pk\n",
      "Comment Body: Not playing the better of your two QBs for the first 97% of the season has got to be the greatest trick play I’ve ever seen.\n",
      "Comment Author: Softy_K\n",
      "Comment Author Flair CSS: lsu-sheet1-row06-col07-corndog-2shtl-2rw18-2cl03\n",
      "Comment Author Flair Text LSU Tigers / Corndog\n",
      "Comment Body Controversaility: 0\n",
      "Comment Created: 1515506177.0\n",
      "Comment Created UTC: 1515477377.0\n",
      "Comment Depth 0\n",
      "Comment Downvotes 0\n",
      "Comment UpVotes 4406\n",
      "Comment Score 4406\n",
      "Comment Submission 7p4vrr\n",
      "Comment User Reports []\n",
      "Comment Subreddit CFB\n",
      "Comment Post 7p4vrr\n",
      "Submission Title:  [Post-Game Thread] CFP NCG: Alabama defeats Georgia (OT) 26-23\n",
      "Submission Score:  9471\n"
     ]
    }
   ],
   "source": [
    "x = 0\n",
    "\n",
    "from collections import defaultdict\n",
    "\n",
    "comments_dict = defaultdict()\n",
    "for top_level_comment in submission.comments:\n",
    "    print(\"=============NEW COMMMENT=============\")\n",
    "    print('Comment ID:',top_level_comment)\n",
    "    print('Comment Body:', top_level_comment.body)\n",
    "    print('Comment Author:', top_level_comment.author)\n",
    "    print('Comment Author Flair CSS:',top_level_comment.author_flair_css_class)\n",
    "    print('Comment Author Flair Text',top_level_comment.author_flair_text)\n",
    "    print('Comment Body Controversaility:', top_level_comment.controversiality)\n",
    "    print('Comment Created:', top_level_comment.created)\n",
    "    print('Comment Created UTC:', top_level_comment.created_utc)\n",
    "    print('Comment Depth', top_level_comment.depth)\n",
    "    print('Comment Downvotes', top_level_comment.downs)\n",
    "    print('Comment UpVotes', top_level_comment.ups)\n",
    "    print('Comment Score', top_level_comment.score)\n",
    "    print('Comment Submission', top_level_comment.submission)\n",
    "    print('Comment User Reports', top_level_comment.user_reports)\n",
    "    print('Comment Subreddit', top_level_comment.subreddit)\n",
    "    print('Comment Post', top_level_comment.submission)\n",
    "    print('Submission Title: ', submission.title)\n",
    "    print('Submission Score: ', submission.score)\n",
    "    \n",
    "    comments_dict['Comment ID'] = top_level_comment\n",
    "    comments_dict['Comment Body'] = top_level_comment\n",
    "    break"
   ]
  },
  {
   "cell_type": "markdown",
   "metadata": {},
   "source": [
    "## Write to CSV"
   ]
  },
  {
   "cell_type": "code",
   "execution_count": 75,
   "metadata": {},
   "outputs": [],
   "source": [
    "submission.comments.replace_more(limit=1)\n",
    "with open('test.csv', 'w') as f:\n",
    "    for top_level_comment in submission.comments:\n",
    "        f.write(top_level_comment.name)\n",
    "        f.write(',')        \n",
    "        comment_parsed = top_level_comment.body.replace('\\n',' ').replace('\\t',' ').replace(',',' ')\n",
    "        if top_level_comment.author is None:\n",
    "            f.write('NO AUTHOR')\n",
    "        else:\n",
    "            f.write(top_level_comment.author.name)\n",
    "        f.write(',')\n",
    "        if top_level_comment.author_flair_text is None:\n",
    "            f.write('NO FLAIR')\n",
    "        else:\n",
    "            f.write(top_level_comment.author_flair_text)\n",
    "        f.write(',')\n",
    "        f.write(str(top_level_comment.score))\n",
    "        f.write(',')\n",
    "        f.write(comment_parsed)\n",
    "        f.write('\\n')"
   ]
  },
  {
   "cell_type": "markdown",
   "metadata": {},
   "source": [
    "# Read Results"
   ]
  },
  {
   "cell_type": "code",
   "execution_count": 76,
   "metadata": {},
   "outputs": [
    {
     "data": {
      "text/html": [
       "<div>\n",
       "<style>\n",
       "    .dataframe thead tr:only-child th {\n",
       "        text-align: right;\n",
       "    }\n",
       "\n",
       "    .dataframe thead th {\n",
       "        text-align: left;\n",
       "    }\n",
       "\n",
       "    .dataframe tbody tr th {\n",
       "        vertical-align: top;\n",
       "    }\n",
       "</style>\n",
       "<table border=\"1\" class=\"dataframe\">\n",
       "  <thead>\n",
       "    <tr style=\"text-align: right;\">\n",
       "      <th></th>\n",
       "      <th>User</th>\n",
       "      <th>Flair</th>\n",
       "      <th>Score</th>\n",
       "      <th>Body</th>\n",
       "    </tr>\n",
       "    <tr>\n",
       "      <th>ID</th>\n",
       "      <th></th>\n",
       "      <th></th>\n",
       "      <th></th>\n",
       "      <th></th>\n",
       "    </tr>\n",
       "  </thead>\n",
       "  <tbody>\n",
       "    <tr>\n",
       "      <th>t1_dsem3pk</th>\n",
       "      <td>Softy_K</td>\n",
       "      <td>LSU Tigers / Corndog</td>\n",
       "      <td>4406</td>\n",
       "      <td>Not playing the better of your two QBs for the...</td>\n",
       "    </tr>\n",
       "    <tr>\n",
       "      <th>t1_dsel5kj</th>\n",
       "      <td>iam1whoknocks</td>\n",
       "      <td>NO FLAIR</td>\n",
       "      <td>2262</td>\n",
       "      <td>I thought this night would end with #48 murder...</td>\n",
       "    </tr>\n",
       "    <tr>\n",
       "      <th>t1_dselwkx</th>\n",
       "      <td>Squalor-</td>\n",
       "      <td>NO FLAIR</td>\n",
       "      <td>3738</td>\n",
       "      <td>Psh  Alabama is on the down swing. The Dynasty...</td>\n",
       "    </tr>\n",
       "    <tr>\n",
       "      <th>t1_dsekysm</th>\n",
       "      <td>insidezone64</td>\n",
       "      <td>SEC / Coastal Carolina Chanticleers</td>\n",
       "      <td>2720</td>\n",
       "      <td>Now Bama is gonna sign all the croots because ...</td>\n",
       "    </tr>\n",
       "    <tr>\n",
       "      <th>t1_dsek584</th>\n",
       "      <td>Snasty728</td>\n",
       "      <td>Virginia Cavaliers / James Madison Dukes</td>\n",
       "      <td>3632</td>\n",
       "      <td>If I had a commercial for every time they said...</td>\n",
       "    </tr>\n",
       "  </tbody>\n",
       "</table>\n",
       "</div>"
      ],
      "text/plain": [
       "                     User                                     Flair  Score  \\\n",
       "ID                                                                           \n",
       "t1_dsem3pk        Softy_K                      LSU Tigers / Corndog   4406   \n",
       "t1_dsel5kj  iam1whoknocks                                  NO FLAIR   2262   \n",
       "t1_dselwkx       Squalor-                                  NO FLAIR   3738   \n",
       "t1_dsekysm   insidezone64       SEC / Coastal Carolina Chanticleers   2720   \n",
       "t1_dsek584      Snasty728  Virginia Cavaliers / James Madison Dukes   3632   \n",
       "\n",
       "                                                         Body  \n",
       "ID                                                             \n",
       "t1_dsem3pk  Not playing the better of your two QBs for the...  \n",
       "t1_dsel5kj  I thought this night would end with #48 murder...  \n",
       "t1_dselwkx  Psh  Alabama is on the down swing. The Dynasty...  \n",
       "t1_dsekysm  Now Bama is gonna sign all the croots because ...  \n",
       "t1_dsek584  If I had a commercial for every time they said...  "
      ]
     },
     "execution_count": 76,
     "metadata": {},
     "output_type": "execute_result"
    }
   ],
   "source": [
    "df = pd.read_csv('test.csv', index_col=0, names=['ID','User','Flair','Score','Body'])\n",
    "df.head()"
   ]
  },
  {
   "cell_type": "code",
   "execution_count": 77,
   "metadata": {},
   "outputs": [
    {
     "data": {
      "text/plain": [
       "(3589, 4)"
      ]
     },
     "execution_count": 77,
     "metadata": {},
     "output_type": "execute_result"
    }
   ],
   "source": [
    "df.shape"
   ]
  },
  {
   "cell_type": "code",
   "execution_count": 82,
   "metadata": {},
   "outputs": [
    {
     "data": {
      "text/plain": [
       "'Cool  Alabama never deserved to be there so nothing after counts.  UCF national champs. '"
      ]
     },
     "execution_count": 82,
     "metadata": {},
     "output_type": "execute_result"
    }
   ],
   "source": [
    "df.sort_values('Score')['Body'][0]"
   ]
  },
  {
   "cell_type": "markdown",
   "metadata": {},
   "source": [
    "# Breadth First Traversal Example"
   ]
  },
  {
   "cell_type": "code",
   "execution_count": 163,
   "metadata": {
    "scrolled": false
   },
   "outputs": [],
   "source": [
    "submission = reddit.submission(url='https://www.reddit.com/r/CFB/comments/7p4vrr/postgame_thread_cfp_ncg_alabama_defeats_georgia/')\n",
    "submission.comments.replace_more(limit=1)\n",
    "comment_queue = submission.comments[:]  # Seed with top-level\n",
    "comment_number = 1\n",
    "with open('test.csv', 'w') as f:\n",
    "    while comment_queue:\n",
    "        comment = comment_queue.pop(0)\n",
    "        f.write(comment.name)\n",
    "        f.write(',')\n",
    "        f.write(str(comment.depth))\n",
    "        f.write(',')\n",
    "        comment_parsed = comment.body.replace('\\n',' ').replace('\\t',' ').replace(',',' ')\n",
    "        if comment.author is None:\n",
    "            f.write('NO AUTHOR')\n",
    "        else:\n",
    "            f.write(comment.author.name)\n",
    "        f.write(',')\n",
    "        if comment.author_flair_text is None:\n",
    "            f.write('NO FLAIR')\n",
    "        else:\n",
    "            f.write(comment.author_flair_text)\n",
    "        f.write(',')\n",
    "        f.write(str(comment.score))\n",
    "        f.write(',')\n",
    "        f.write(comment_parsed)\n",
    "        f.write('\\n')\n",
    "        #print('=============Comment Number {}============='.format(comment_number))\n",
    "        #print('=========Comment Depth: {}======='.format(comment.depth))\n",
    "        # print(comment.body)\n",
    "        comment_queue.extend(comment.replies)\n",
    "        comment_number += 1"
   ]
  },
  {
   "cell_type": "code",
   "execution_count": 164,
   "metadata": {},
   "outputs": [],
   "source": [
    "df = pd.read_csv('test.csv', index_col=0, names=['ID','Depth','User','Flair','Score','Body'])"
   ]
  },
  {
   "cell_type": "code",
   "execution_count": 165,
   "metadata": {},
   "outputs": [
    {
     "data": {
      "text/html": [
       "<div>\n",
       "<style>\n",
       "    .dataframe thead tr:only-child th {\n",
       "        text-align: right;\n",
       "    }\n",
       "\n",
       "    .dataframe thead th {\n",
       "        text-align: left;\n",
       "    }\n",
       "\n",
       "    .dataframe tbody tr th {\n",
       "        vertical-align: top;\n",
       "    }\n",
       "</style>\n",
       "<table border=\"1\" class=\"dataframe\">\n",
       "  <thead>\n",
       "    <tr style=\"text-align: right;\">\n",
       "      <th></th>\n",
       "      <th>Depth</th>\n",
       "      <th>User</th>\n",
       "      <th>Flair</th>\n",
       "      <th>Score</th>\n",
       "      <th>Body</th>\n",
       "    </tr>\n",
       "    <tr>\n",
       "      <th>ID</th>\n",
       "      <th></th>\n",
       "      <th></th>\n",
       "      <th></th>\n",
       "      <th></th>\n",
       "      <th></th>\n",
       "    </tr>\n",
       "  </thead>\n",
       "  <tbody>\n",
       "    <tr>\n",
       "      <th>t1_dsem3pk</th>\n",
       "      <td>0</td>\n",
       "      <td>Softy_K</td>\n",
       "      <td>LSU Tigers / Corndog</td>\n",
       "      <td>4406</td>\n",
       "      <td>Not playing the better of your two QBs for the...</td>\n",
       "    </tr>\n",
       "    <tr>\n",
       "      <th>t1_dsel5kj</th>\n",
       "      <td>0</td>\n",
       "      <td>iam1whoknocks</td>\n",
       "      <td>NO FLAIR</td>\n",
       "      <td>2261</td>\n",
       "      <td>I thought this night would end with #48 murder...</td>\n",
       "    </tr>\n",
       "    <tr>\n",
       "      <th>t1_dselwkx</th>\n",
       "      <td>0</td>\n",
       "      <td>Squalor-</td>\n",
       "      <td>NO FLAIR</td>\n",
       "      <td>3733</td>\n",
       "      <td>Psh  Alabama is on the down swing. The Dynasty...</td>\n",
       "    </tr>\n",
       "    <tr>\n",
       "      <th>t1_dsekysm</th>\n",
       "      <td>0</td>\n",
       "      <td>insidezone64</td>\n",
       "      <td>SEC / Coastal Carolina Chanticleers</td>\n",
       "      <td>2717</td>\n",
       "      <td>Now Bama is gonna sign all the croots because ...</td>\n",
       "    </tr>\n",
       "    <tr>\n",
       "      <th>t1_dsek584</th>\n",
       "      <td>0</td>\n",
       "      <td>Snasty728</td>\n",
       "      <td>Virginia Cavaliers / James Madison Dukes</td>\n",
       "      <td>3632</td>\n",
       "      <td>If I had a commercial for every time they said...</td>\n",
       "    </tr>\n",
       "  </tbody>\n",
       "</table>\n",
       "</div>"
      ],
      "text/plain": [
       "            Depth           User                                     Flair  \\\n",
       "ID                                                                           \n",
       "t1_dsem3pk      0        Softy_K                      LSU Tigers / Corndog   \n",
       "t1_dsel5kj      0  iam1whoknocks                                  NO FLAIR   \n",
       "t1_dselwkx      0       Squalor-                                  NO FLAIR   \n",
       "t1_dsekysm      0   insidezone64       SEC / Coastal Carolina Chanticleers   \n",
       "t1_dsek584      0      Snasty728  Virginia Cavaliers / James Madison Dukes   \n",
       "\n",
       "            Score                                               Body  \n",
       "ID                                                                    \n",
       "t1_dsem3pk   4406  Not playing the better of your two QBs for the...  \n",
       "t1_dsel5kj   2261  I thought this night would end with #48 murder...  \n",
       "t1_dselwkx   3733  Psh  Alabama is on the down swing. The Dynasty...  \n",
       "t1_dsekysm   2717  Now Bama is gonna sign all the croots because ...  \n",
       "t1_dsek584   3632  If I had a commercial for every time they said...  "
      ]
     },
     "execution_count": 165,
     "metadata": {},
     "output_type": "execute_result"
    }
   ],
   "source": [
    "df.head()"
   ]
  },
  {
   "cell_type": "code",
   "execution_count": 167,
   "metadata": {},
   "outputs": [
    {
     "data": {
      "text/html": [
       "<div>\n",
       "<style>\n",
       "    .dataframe thead tr:only-child th {\n",
       "        text-align: right;\n",
       "    }\n",
       "\n",
       "    .dataframe thead th {\n",
       "        text-align: left;\n",
       "    }\n",
       "\n",
       "    .dataframe tbody tr th {\n",
       "        vertical-align: top;\n",
       "    }\n",
       "</style>\n",
       "<table border=\"1\" class=\"dataframe\">\n",
       "  <thead>\n",
       "    <tr style=\"text-align: right;\">\n",
       "      <th></th>\n",
       "      <th>Depth</th>\n",
       "      <th>User</th>\n",
       "      <th>Flair</th>\n",
       "      <th>Score</th>\n",
       "      <th>Body</th>\n",
       "    </tr>\n",
       "    <tr>\n",
       "      <th>ID</th>\n",
       "      <th></th>\n",
       "      <th></th>\n",
       "      <th></th>\n",
       "      <th></th>\n",
       "      <th></th>\n",
       "    </tr>\n",
       "  </thead>\n",
       "  <tbody>\n",
       "    <tr>\n",
       "      <th>t1_dsepuo7</th>\n",
       "      <td>7</td>\n",
       "      <td>myrddyna</td>\n",
       "      <td>LSU Tigers / Oregon Ducks</td>\n",
       "      <td>28</td>\n",
       "      <td>12  0 versus his progeny coaches.</td>\n",
       "    </tr>\n",
       "    <tr>\n",
       "      <th>t1_dsem7z5</th>\n",
       "      <td>7</td>\n",
       "      <td>Lugia1337</td>\n",
       "      <td>Georgia Bulldogs / Rose Bowl</td>\n",
       "      <td>31</td>\n",
       "      <td>We might never know true happiness yet. Maybe ...</td>\n",
       "    </tr>\n",
       "    <tr>\n",
       "      <th>t1_dsen6dn</th>\n",
       "      <td>7</td>\n",
       "      <td>Cameronam</td>\n",
       "      <td>Memphis Tigers</td>\n",
       "      <td>31</td>\n",
       "      <td>He must have  it was stated that Tua was gonna...</td>\n",
       "    </tr>\n",
       "  </tbody>\n",
       "</table>\n",
       "</div>"
      ],
      "text/plain": [
       "            Depth       User                         Flair  Score  \\\n",
       "ID                                                                  \n",
       "t1_dsepuo7      7   myrddyna     LSU Tigers / Oregon Ducks     28   \n",
       "t1_dsem7z5      7  Lugia1337  Georgia Bulldogs / Rose Bowl     31   \n",
       "t1_dsen6dn      7  Cameronam                Memphis Tigers     31   \n",
       "\n",
       "                                                         Body  \n",
       "ID                                                             \n",
       "t1_dsepuo7                 12  0 versus his progeny coaches.   \n",
       "t1_dsem7z5  We might never know true happiness yet. Maybe ...  \n",
       "t1_dsen6dn  He must have  it was stated that Tua was gonna...  "
      ]
     },
     "execution_count": 167,
     "metadata": {},
     "output_type": "execute_result"
    }
   ],
   "source": [
    "df.loc[df['Depth'] == 7].sort_values('Score').head()"
   ]
  },
  {
   "cell_type": "markdown",
   "metadata": {},
   "source": [
    "# Plot Depth/Score"
   ]
  },
  {
   "cell_type": "code",
   "execution_count": 173,
   "metadata": {},
   "outputs": [
    {
     "data": {
      "text/plain": [
       "<matplotlib.axes._subplots.AxesSubplot at 0x116c9b160>"
      ]
     },
     "execution_count": 173,
     "metadata": {},
     "output_type": "execute_result"
    },
    {
     "data": {
      "image/png": "[encoded data removed]",
      "text/plain": [
       "<matplotlib.figure.Figure at 0x1160e38d0>"
      ]
     },
     "metadata": {},
     "output_type": "display_data"
    }
   ],
   "source": [
    "df.plot(x='Depth', y='Score', kind='scatter', figsize=(15,10))"
   ]
  },
  {
   "cell_type": "markdown",
   "metadata": {},
   "source": [
    "### Groupby Flair"
   ]
  },
  {
   "cell_type": "code",
   "execution_count": 110,
   "metadata": {},
   "outputs": [],
   "source": [
    "df['First Flair'] = df.apply(lambda x: x['Flair'].split(' / ')[0], axis=1)\n",
    "#df['Second Flair'] = df.apply(lambda x: x['Flair'].split(' / ')[1], axis=1)"
   ]
  },
  {
   "cell_type": "code",
   "execution_count": 113,
   "metadata": {},
   "outputs": [],
   "source": [
    "grouped_by_flair = df.groupby('First Flair')"
   ]
  },
  {
   "cell_type": "code",
   "execution_count": 131,
   "metadata": {},
   "outputs": [],
   "source": [
    "average_score = grouped_by_flair.aggregate(np.average).sort_values('Score')"
   ]
  },
  {
   "cell_type": "code",
   "execution_count": 144,
   "metadata": {},
   "outputs": [
    {
     "data": {
      "text/plain": [
       "<matplotlib.axes._subplots.AxesSubplot at 0x10ceddfd0>"
      ]
     },
     "execution_count": 144,
     "metadata": {},
     "output_type": "execute_result"
    },
    {
     "data": {
      "image/png": "[encoded data removed]",
      "text/plain": [
       "<matplotlib.figure.Figure at 0x10da81358>"
      ]
     },
     "metadata": {},
     "output_type": "display_data"
    }
   ],
   "source": [
    "average_score.loc[average_score['Score']>=100].plot(y='Score', kind='bar',figsize=(20,5))"
   ]
  },
  {
   "cell_type": "code",
   "execution_count": 150,
   "metadata": {},
   "outputs": [
    {
     "data": {
      "text/plain": [
       "<matplotlib.axes._subplots.AxesSubplot at 0x1144b09e8>"
      ]
     },
     "execution_count": 150,
     "metadata": {},
     "output_type": "execute_result"
    },
    {
     "data": {
      "image/png": "[encoded data removed]",
      "text/plain": [
       "<matplotlib.figure.Figure at 0x11435be80>"
      ]
     },
     "metadata": {},
     "output_type": "display_data"
    }
   ],
   "source": [
    "average_score.loc[average_score['Score']<=0.5].plot(y='Score', kind='bar',figsize=(20,5))"
   ]
  },
  {
   "cell_type": "markdown",
   "metadata": {},
   "source": [
    "# College Basketball"
   ]
  },
  {
   "cell_type": "code",
   "execution_count": 152,
   "metadata": {},
   "outputs": [],
   "source": [
    "# Find Threads\n",
    "bb = reddit.subreddit('CollegeBasketball')"
   ]
  },
  {
   "cell_type": "code",
   "execution_count": 153,
   "metadata": {},
   "outputs": [
    {
     "name": "stdout",
     "output_type": "stream",
     "text": [
      "60e8fq\n",
      "[Post Game Thread] #7 South Carolina defeats #2 Duke, 88-81\n"
     ]
    },
    {
     "ename": "KeyboardInterrupt",
     "evalue": "",
     "output_type": "error",
     "traceback": [
      "\u001b[0;31m---------------------------------------------------------------------------\u001b[0m",
      "\u001b[0;31mKeyboardInterrupt\u001b[0m                         Traceback (most recent call last)",
      "\u001b[0;32m<ipython-input-153-2609d3b5bab3>\u001b[0m in \u001b[0;36m<module>\u001b[0;34m()\u001b[0m\n\u001b[1;32m      5\u001b[0m         \u001b[0mprint\u001b[0m\u001b[0;34m(\u001b[0m\u001b[0msubmission\u001b[0m\u001b[0;34m)\u001b[0m\u001b[0;34m\u001b[0m\u001b[0m\n\u001b[1;32m      6\u001b[0m         \u001b[0mprint\u001b[0m\u001b[0;34m(\u001b[0m\u001b[0msubmission\u001b[0m\u001b[0;34m.\u001b[0m\u001b[0mtitle\u001b[0m\u001b[0;34m)\u001b[0m\u001b[0;34m\u001b[0m\u001b[0m\n\u001b[0;32m----> 7\u001b[0;31m         \u001b[0msubmission\u001b[0m\u001b[0;34m.\u001b[0m\u001b[0mcomments\u001b[0m\u001b[0;34m.\u001b[0m\u001b[0mreplace_more\u001b[0m\u001b[0;34m(\u001b[0m\u001b[0mlimit\u001b[0m\u001b[0;34m=\u001b[0m\u001b[0;32mNone\u001b[0m\u001b[0;34m)\u001b[0m\u001b[0;34m\u001b[0m\u001b[0m\n\u001b[0m\u001b[1;32m      8\u001b[0m         \u001b[0mcomment_queue\u001b[0m \u001b[0;34m=\u001b[0m \u001b[0msubmission\u001b[0m\u001b[0;34m.\u001b[0m\u001b[0mcomments\u001b[0m\u001b[0;34m[\u001b[0m\u001b[0;34m:\u001b[0m\u001b[0;34m]\u001b[0m  \u001b[0;31m# Seed with top-level\u001b[0m\u001b[0;34m\u001b[0m\u001b[0m\n\u001b[1;32m      9\u001b[0m         \u001b[0;32mwhile\u001b[0m \u001b[0mcomment_queue\u001b[0m\u001b[0;34m:\u001b[0m\u001b[0;34m\u001b[0m\u001b[0m\n",
      "\u001b[0;32m~/anaconda3/envs/w266/lib/python3.6/site-packages/praw/models/comment_forest.py\u001b[0m in \u001b[0;36mreplace_more\u001b[0;34m(self, limit, threshold)\u001b[0m\n\u001b[1;32m    160\u001b[0m                 \u001b[0;32mcontinue\u001b[0m\u001b[0;34m\u001b[0m\u001b[0m\n\u001b[1;32m    161\u001b[0m \u001b[0;34m\u001b[0m\u001b[0m\n\u001b[0;32m--> 162\u001b[0;31m             \u001b[0mnew_comments\u001b[0m \u001b[0;34m=\u001b[0m \u001b[0mitem\u001b[0m\u001b[0;34m.\u001b[0m\u001b[0mcomments\u001b[0m\u001b[0;34m(\u001b[0m\u001b[0mupdate\u001b[0m\u001b[0;34m=\u001b[0m\u001b[0;32mFalse\u001b[0m\u001b[0;34m)\u001b[0m\u001b[0;34m\u001b[0m\u001b[0m\n\u001b[0m\u001b[1;32m    163\u001b[0m             \u001b[0;32mif\u001b[0m \u001b[0mremaining\u001b[0m \u001b[0;32mis\u001b[0m \u001b[0;32mnot\u001b[0m \u001b[0;32mNone\u001b[0m\u001b[0;34m:\u001b[0m\u001b[0;34m\u001b[0m\u001b[0m\n\u001b[1;32m    164\u001b[0m                 \u001b[0mremaining\u001b[0m \u001b[0;34m-=\u001b[0m \u001b[0;36m1\u001b[0m\u001b[0;34m\u001b[0m\u001b[0m\n",
      "\u001b[0;32m~/anaconda3/envs/w266/lib/python3.6/site-packages/praw/models/reddit/more.py\u001b[0m in \u001b[0;36mcomments\u001b[0;34m(self, update)\u001b[0m\n\u001b[1;32m     63\u001b[0m                     'sort': self.submission.comment_sort}\n\u001b[1;32m     64\u001b[0m             self._comments = self._reddit.post(API_PATH['morechildren'],\n\u001b[0;32m---> 65\u001b[0;31m                                                data=data)\n\u001b[0m\u001b[1;32m     66\u001b[0m             \u001b[0;32mif\u001b[0m \u001b[0mupdate\u001b[0m\u001b[0;34m:\u001b[0m\u001b[0;34m\u001b[0m\u001b[0m\n\u001b[1;32m     67\u001b[0m                 \u001b[0;32mfor\u001b[0m \u001b[0mcomment\u001b[0m \u001b[0;32min\u001b[0m \u001b[0mself\u001b[0m\u001b[0;34m.\u001b[0m\u001b[0m_comments\u001b[0m\u001b[0;34m:\u001b[0m\u001b[0;34m\u001b[0m\u001b[0m\n",
      "\u001b[0;32m~/anaconda3/envs/w266/lib/python3.6/site-packages/praw/reddit.py\u001b[0m in \u001b[0;36mpost\u001b[0;34m(self, path, data, files, params)\u001b[0m\n\u001b[1;32m    429\u001b[0m         \"\"\"\n\u001b[1;32m    430\u001b[0m         data = self.request('POST', path, data=data or {}, files=files,\n\u001b[0;32m--> 431\u001b[0;31m                             params=params)\n\u001b[0m\u001b[1;32m    432\u001b[0m         \u001b[0;32mreturn\u001b[0m \u001b[0mself\u001b[0m\u001b[0;34m.\u001b[0m\u001b[0m_objector\u001b[0m\u001b[0;34m.\u001b[0m\u001b[0mobjectify\u001b[0m\u001b[0;34m(\u001b[0m\u001b[0mdata\u001b[0m\u001b[0;34m)\u001b[0m\u001b[0;34m\u001b[0m\u001b[0m\n\u001b[1;32m    433\u001b[0m \u001b[0;34m\u001b[0m\u001b[0m\n",
      "\u001b[0;32m~/anaconda3/envs/w266/lib/python3.6/site-packages/praw/reddit.py\u001b[0m in \u001b[0;36mrequest\u001b[0;34m(self, method, path, params, data, files)\u001b[0m\n\u001b[1;32m    470\u001b[0m         \"\"\"\n\u001b[1;32m    471\u001b[0m         return self._core.request(method, path, data=data, files=files,\n\u001b[0;32m--> 472\u001b[0;31m                                   params=params)\n\u001b[0m\u001b[1;32m    473\u001b[0m \u001b[0;34m\u001b[0m\u001b[0m\n\u001b[1;32m    474\u001b[0m     def submission(  # pylint: disable=invalid-name,redefined-builtin\n",
      "\u001b[0;32m~/anaconda3/envs/w266/lib/python3.6/site-packages/prawcore/sessions.py\u001b[0m in \u001b[0;36mrequest\u001b[0;34m(self, method, path, data, files, json, params)\u001b[0m\n\u001b[1;32m    179\u001b[0m         return self._request_with_retries(\n\u001b[1;32m    180\u001b[0m             \u001b[0mdata\u001b[0m\u001b[0;34m=\u001b[0m\u001b[0mdata\u001b[0m\u001b[0;34m,\u001b[0m \u001b[0mfiles\u001b[0m\u001b[0;34m=\u001b[0m\u001b[0mfiles\u001b[0m\u001b[0;34m,\u001b[0m \u001b[0mjson\u001b[0m\u001b[0;34m=\u001b[0m\u001b[0mjson\u001b[0m\u001b[0;34m,\u001b[0m \u001b[0mmethod\u001b[0m\u001b[0;34m=\u001b[0m\u001b[0mmethod\u001b[0m\u001b[0;34m,\u001b[0m\u001b[0;34m\u001b[0m\u001b[0m\n\u001b[0;32m--> 181\u001b[0;31m             params=params, url=url)\n\u001b[0m\u001b[1;32m    182\u001b[0m \u001b[0;34m\u001b[0m\u001b[0m\n\u001b[1;32m    183\u001b[0m \u001b[0;34m\u001b[0m\u001b[0m\n",
      "\u001b[0;32m~/anaconda3/envs/w266/lib/python3.6/site-packages/prawcore/sessions.py\u001b[0m in \u001b[0;36m_request_with_retries\u001b[0;34m(self, data, files, json, method, params, url, retries)\u001b[0m\n\u001b[1;32m    110\u001b[0m         \u001b[0mself\u001b[0m\u001b[0;34m.\u001b[0m\u001b[0m_log_request\u001b[0m\u001b[0;34m(\u001b[0m\u001b[0mdata\u001b[0m\u001b[0;34m,\u001b[0m \u001b[0mmethod\u001b[0m\u001b[0;34m,\u001b[0m \u001b[0mparams\u001b[0m\u001b[0;34m,\u001b[0m \u001b[0murl\u001b[0m\u001b[0;34m)\u001b[0m\u001b[0;34m\u001b[0m\u001b[0m\n\u001b[1;32m    111\u001b[0m         response, saved_exception = self._make_request(\n\u001b[0;32m--> 112\u001b[0;31m             data, files, json, method, params, retries, url)\n\u001b[0m\u001b[1;32m    113\u001b[0m \u001b[0;34m\u001b[0m\u001b[0m\n\u001b[1;32m    114\u001b[0m         \u001b[0mdo_retry\u001b[0m \u001b[0;34m=\u001b[0m \u001b[0;32mFalse\u001b[0m\u001b[0;34m\u001b[0m\u001b[0m\n",
      "\u001b[0;32m~/anaconda3/envs/w266/lib/python3.6/site-packages/prawcore/sessions.py\u001b[0m in \u001b[0;36m_make_request\u001b[0;34m(self, data, files, json, method, params, retries, url)\u001b[0m\n\u001b[1;32m     95\u001b[0m                 \u001b[0mself\u001b[0m\u001b[0;34m.\u001b[0m\u001b[0m_requestor\u001b[0m\u001b[0;34m.\u001b[0m\u001b[0mrequest\u001b[0m\u001b[0;34m,\u001b[0m \u001b[0mself\u001b[0m\u001b[0;34m.\u001b[0m\u001b[0m_set_header_callback\u001b[0m\u001b[0;34m,\u001b[0m \u001b[0mmethod\u001b[0m\u001b[0;34m,\u001b[0m\u001b[0;34m\u001b[0m\u001b[0m\n\u001b[1;32m     96\u001b[0m                 \u001b[0murl\u001b[0m\u001b[0;34m,\u001b[0m \u001b[0mallow_redirects\u001b[0m\u001b[0;34m=\u001b[0m\u001b[0;32mFalse\u001b[0m\u001b[0;34m,\u001b[0m \u001b[0mdata\u001b[0m\u001b[0;34m=\u001b[0m\u001b[0mdata\u001b[0m\u001b[0;34m,\u001b[0m \u001b[0mfiles\u001b[0m\u001b[0;34m=\u001b[0m\u001b[0mfiles\u001b[0m\u001b[0;34m,\u001b[0m \u001b[0mjson\u001b[0m\u001b[0;34m=\u001b[0m\u001b[0mjson\u001b[0m\u001b[0;34m,\u001b[0m\u001b[0;34m\u001b[0m\u001b[0m\n\u001b[0;32m---> 97\u001b[0;31m                 params=params)\n\u001b[0m\u001b[1;32m     98\u001b[0m             log.debug('Response: {} ({} bytes)'.format(\n\u001b[1;32m     99\u001b[0m                 response.status_code, response.headers.get('content-length')))\n",
      "\u001b[0;32m~/anaconda3/envs/w266/lib/python3.6/site-packages/prawcore/rate_limit.py\u001b[0m in \u001b[0;36mcall\u001b[0;34m(self, request_function, set_header_callback, *args, **kwargs)\u001b[0m\n\u001b[1;32m     29\u001b[0m \u001b[0;34m\u001b[0m\u001b[0m\n\u001b[1;32m     30\u001b[0m         \"\"\"\n\u001b[0;32m---> 31\u001b[0;31m         \u001b[0mself\u001b[0m\u001b[0;34m.\u001b[0m\u001b[0mdelay\u001b[0m\u001b[0;34m(\u001b[0m\u001b[0;34m)\u001b[0m\u001b[0;34m\u001b[0m\u001b[0m\n\u001b[0m\u001b[1;32m     32\u001b[0m         \u001b[0mkwargs\u001b[0m\u001b[0;34m[\u001b[0m\u001b[0;34m'headers'\u001b[0m\u001b[0;34m]\u001b[0m \u001b[0;34m=\u001b[0m \u001b[0mset_header_callback\u001b[0m\u001b[0;34m(\u001b[0m\u001b[0;34m)\u001b[0m\u001b[0;34m\u001b[0m\u001b[0m\n\u001b[1;32m     33\u001b[0m         \u001b[0mresponse\u001b[0m \u001b[0;34m=\u001b[0m \u001b[0mrequest_function\u001b[0m\u001b[0;34m(\u001b[0m\u001b[0;34m*\u001b[0m\u001b[0margs\u001b[0m\u001b[0;34m,\u001b[0m \u001b[0;34m**\u001b[0m\u001b[0mkwargs\u001b[0m\u001b[0;34m)\u001b[0m\u001b[0;34m\u001b[0m\u001b[0m\n",
      "\u001b[0;32m~/anaconda3/envs/w266/lib/python3.6/site-packages/prawcore/rate_limit.py\u001b[0m in \u001b[0;36mdelay\u001b[0;34m(self)\u001b[0m\n\u001b[1;32m     42\u001b[0m         \u001b[0;32mif\u001b[0m \u001b[0msleep_seconds\u001b[0m \u001b[0;34m<=\u001b[0m \u001b[0;36m0\u001b[0m\u001b[0;34m:\u001b[0m\u001b[0;34m\u001b[0m\u001b[0m\n\u001b[1;32m     43\u001b[0m             \u001b[0;32mreturn\u001b[0m\u001b[0;34m\u001b[0m\u001b[0m\n\u001b[0;32m---> 44\u001b[0;31m         \u001b[0mtime\u001b[0m\u001b[0;34m.\u001b[0m\u001b[0msleep\u001b[0m\u001b[0;34m(\u001b[0m\u001b[0msleep_seconds\u001b[0m\u001b[0;34m)\u001b[0m\u001b[0;34m\u001b[0m\u001b[0m\n\u001b[0m\u001b[1;32m     45\u001b[0m \u001b[0;34m\u001b[0m\u001b[0m\n\u001b[1;32m     46\u001b[0m     \u001b[0;32mdef\u001b[0m \u001b[0mupdate\u001b[0m\u001b[0;34m(\u001b[0m\u001b[0mself\u001b[0m\u001b[0;34m,\u001b[0m \u001b[0mresponse_headers\u001b[0m\u001b[0;34m)\u001b[0m\u001b[0;34m:\u001b[0m\u001b[0;34m\u001b[0m\u001b[0m\n",
      "\u001b[0;31mKeyboardInterrupt\u001b[0m: "
     ]
    }
   ],
   "source": [
    "post_game_threads = bb.search('[Post Game Thread]')\n",
    "with open('test.csv', 'w') as f:\n",
    "    thread_count = 0\n",
    "    for submission in post_game_threads:\n",
    "        print(submission)\n",
    "        print(submission.title)\n",
    "        submission.comments.replace_more(limit=None)\n",
    "        comment_queue = submission.comments[:]  # Seed with top-level\n",
    "        while comment_queue:\n",
    "            comment = comment_queue.pop(0)\n",
    "            f.write(comment.name)\n",
    "            f.write(',')\n",
    "            f.write(str(comment.depth))\n",
    "            f.write(',')\n",
    "            f.write(str(submission.title))\n",
    "            f.write(',')\n",
    "            comment_parsed = comment.body.replace('\\n',' ').replace('\\t',' ').replace(',',' ')\n",
    "            if comment.author is None:\n",
    "                f.write('NO AUTHOR')\n",
    "            else:\n",
    "                f.write(comment.author.name)\n",
    "            f.write(',')\n",
    "            if comment.author_flair_text is None:\n",
    "                f.write('NO FLAIR')\n",
    "            else:\n",
    "                f.write(comment.author_flair_text)\n",
    "            f.write(',')\n",
    "            f.write(str(comment.score))\n",
    "            f.write(',')\n",
    "            f.write(comment_parsed)\n",
    "            f.write('\\n')\n",
    "            #print('=============Comment Number {}============='.format(comment_number))\n",
    "            #print('=========Comment Depth: {}======='.format(comment.depth))\n",
    "            # print(comment.body)\n",
    "            comment_queue.extend(comment.replies)\n",
    "            comment_number += 1\n",
    "            thread_count += 1\n",
    "            if thread_count >= 3:\n",
    "                break"
   ]
  },
  {
   "cell_type": "code",
   "execution_count": 154,
   "metadata": {
    "scrolled": false
   },
   "outputs": [
    {
     "name": "stdout",
     "output_type": "stream",
     "text": [
      "60e8fq 9573 2048 [Post Game Thread] #7 South Carolina defeats #2 Duke, 88-81\n",
      "606fvo 8259 2048 [Post Game Thread] #8 Wisconsin upsets #1 Villanova, 65-62\n",
      "63bsmz 4676 2048 [Post Game Thread] #1 North Carolina defeats #1 Gonzaga 71-65 to win the National Championship!\n",
      "60bhx8 3653 2048 [Post Game Thread] #7 Michigan defeats #2 Louisville, 73-69\n",
      "61dygr 4337 2048 [Post Game Thread] #4 Florida defeats #8 Wisconsin, 84-83 OT\n",
      "7ion9j 4222 2048 [Post Game Thread] Boston College defeats #1 Duke, 89-84\n",
      "61jhit 3666 2048 [Post Game Thread] #3 Oregon defeats #1 Kansas, 74-60\n",
      "62qjrf 4095 2048 [Post Game Thread] (NCAAW) #2 Mississippi State defeats #1 Connecticut, 66-64 (OT)\n",
      "61nu2d 3631 2048 [Post Game Thread] #7 South Carolina defeats #4 Florida, 77-70\n",
      "6172gd 2698 2048 [Post Game Thread] #11 Xavier defeats #2 Arizona, 73-71\n",
      "5yi6d6 2561 2048 [Post Game Thread] TCU defeats #1 Kansas, 85-82\n",
      "5w8odo 2260 2048 [Post Game Thread] BYU defeats #1 Gonzaga 79-71\n",
      "7l6zr0 2596 2048 [Post Game Thread] Wofford defeats #5 North Carolina 79-75\n",
      "7oo6cs 2556 2048 [Post Game Thread] NC State defeats #2 Duke, 96-85\n",
      "5pth6v 2057 2048 [Post Game Thread] NC State defeats #18 Duke 84-82\n",
      "7ouby8 2336 2048 [Post Game Thread] Ohio State defeats #1 Michigan State 80-64\n",
      "62wmen 1966 2048 [Post Game Thread] #1 Gonzaga defeats #7 South Carolina, 77-73\n",
      "61opi4 1685 2048 [Post Game Thread] #1 North Carolina Defeats #2 Kentucky 75-73\n",
      "5ztva7 1639 2048 [Post Game Thread] #8 Northwestern defeats #9 Vanderbilt, 68-66\n",
      "7q6jv1 1564 2048 [Post Game Thread] Michigan defeats #4 Michigan State, 82-72\n",
      "5vnab7 1815 2048 [Post Game Thread] Syracuse defeats #11 Duke, 78-75\n",
      "7ew9dd 1811 2048 [Post Game Thread] NC State defeats #2 Arizona 90-84\n",
      "7i3sub 1627 2048 [Post Game Thread] Washington defeats #2 Kansas 74-65\n",
      "60de6h 422 2048 [Post Game Thread] #1 North Carolina defeats #8 Arkansas, 72-65\n",
      "600cgt 911 2048 [Post Game Thread] #11 USC defeats #6 SMU, 66-65\n",
      "5zzcv0 1209 2048 [Post Game Thread] #7 Michigan defeats #10 Oklahoma State, 92-91\n",
      "616051 1098 2048 [Post Game Thread] #3 Oregon defeats #7 Michigan 69-68\n",
      "62xiob 906 2048 [Post Game Thread] #1 North Carolina defeats #3 Oregon, 77-76\n",
      "61d4ub 1401 2048 [Post Game Thread] #7 South Carolina defeats #3 Baylor, 70-50\n",
      "7iwpy1 1380 2048 [Post Game Thread] #18 Arizona State defeats #2 Kansas 95-85\n",
      "7d0w1q 840 2048 [Post Game Thread] #1 Duke defeats #2 Michigan State 88-81\n",
      "7c5q82 1394 2048 [Post Game Thread] Indiana State Defeats Indiana 90-69\n",
      "7kqfsc 1353 2048 [Post Game Thread] Fort Wayne defeats Indiana 92-72\n",
      "7n4t4k 1440 2048 [Post Game Thread] Butler Defeats #1 Villanova 101-93\n",
      "616rxe 600 2048 [Post Game Thread] #1 Kansas defeats #4 Purdue 98-66\n",
      "5z0x7h 1134 2048 [Post Game Thread] Michigan defeats #24 Wisconsin, 71-56\n",
      "616d2c 611 2048 [Post Game Thread] #1 Gonzaga defeats #4 West Virginia, 61-58\n",
      "7husl4 1427 2048 [Post Game Thread] Ball State defeats #10 Notre Dame 80-77\n",
      "5ty4z7 896 2048 [Post Game Thread] #3 Kansas defeats #10 West Virginia, 84-80 (OT)\n",
      "60ccpw 672 2048 [Post Game Thread] #2 Kentucky defeats #10 Wichita State, 65-62\n",
      "7qpqqu 577 2048 [Post Game Thread] #10 Kansas defeats #4 West Virginia 71-66\n",
      "7hcg91 1354 2048 [Post Game Thread] UCF defeats #24 Alabama 65-62\n",
      "5yo1ah 852 2048 [Post Game Thread] Michigan beats #13 Purdue 74-70 after OT\n",
      "61dqsk 743 2048 [Post Game Thread] #2 Kentucky defeats #3 UCLA, 86-75\n",
      "7ns4n4 948 2048 [Post Game Thread] #16 Texas Tech defeats #11 Kansas 85-73\n",
      "5s37z7 1405 2048 [Post Game Thread] Iowa State defeats #3 Kansas 92-89 (OT)\n",
      "608asg 643 2048 [Post Game Thread] #4 Purdue defeats #5 Iowa State, 80-76\n",
      "6077qs 503 2048 [Post Game Thread] #1 Gonzaga defeats #8 Northwestern, 79-73\n",
      "60d538 523 2048 [Post Game Thread] #1 Kansas defeats #9 Michigan State, 90-70\n",
      "5wl2q2 783 2048 [Post Game Thread] #23 Virginia Defeats #5 North Carolina 53-43\n",
      "7fcwkp 998 2048 [Post Game Thread] #17 Purdue defeats #2 Arizona 89-64\n",
      "5ztrhi 756 2048 [Post Game Thread] #12 Middle Tennessee defeats #5 Minnesota, 81-72\n",
      "5tq14h 822 2048 [Post Game Thread] Northwestern defeats #8 Wisconsin, 66-59\n",
      "7pd1xd 411 2048 [Post Game Thread] #7 Purdue defeats Michigan 70-69\n",
      "5qr7k2 490 2048 [Post Game Thread] #2 Kansas defeats #4 Kentucky, 79-73\n",
      "7f528w 891 2048 [Post Game Thread] SMU defeats #2 Arizona 66-60\n",
      "60dpi0 466 2048 [Post Game Thread] #3 Oregon defeats #11 Rhode Island, 75-72\n",
      "5rkls8 476 2048 [Post Game Thread] #3 Kansas defeats #2 Baylor 73-68\n",
      "7fs9it 851 2048 [Post Game Thread] #5 Michigan State defeats #8 North Carolina 63-45\n",
      "60ecsd 466 2048 [Post Game Thread] #3 UCLA defeats #6 Cincinnati, 79-67\n",
      "7q7cnv 632 2048 [Post Game Thread] #6 Texas Tech defeats #2 West Virginia, 72-71\n",
      "7rt87f 750 2048 [Post Game Thread] Oklahoma State defeats #6 Oklahoma 83-81 in OT\n",
      "5x88lt 582 2048 [Post Game Thread] Iowa defeats #22 Wisconsin, 59-57\n",
      "5qvsl6 539 2048 [Post Game Thread] #1 Villanova Defeats #13 Virginia 61-59\n",
      "7o8j86 819 2048 [Post Game Thread] Colorado defeats #5 Arizona State 90-81 in OT\n",
      "5q16fr 471 2048 [Post Game Thread] Tennessee beats #4 Kentucky 82-80\n",
      "7lrovs 880 2048 [Post Game Thread] UCLA defeats #8 Kentucky 83-75\n",
      "608151 498 2048 [Post Game Thread] #4 Florida defeats #5 Virginia, 65-39\n",
      "607dcr 698 2048 [Post Game Thread] #11 Xavier defeats #3 Florida State, 91-66\n",
      "5q0ub5 624 2048 [Post Game Thread] Marquette defeats #1 Villanova, 74-72\n",
      "5q7ldv 796 2048 [Post Game Thread] Georgia Tech defeats #6 Florida State 78-56\n",
      "7grp31 817 2048 [Post Game Thread] #4 Michigan State defeats #6 Notre Dame 81-63\n",
      "7i3ezi 726 2048 [Post Game Thread] Loyola-Chicago defeats #5 Florida 65-59\n",
      "5ywvol 324 2048 [Post Game Thread] #15 Duke defeats #22 Notre Dame, 75-69\n",
      "5zzscj 306 2048 [Post Game Thread] #8 Arkansas defeats #9 Seton Hall, 77-71\n",
      "7olg87 640 2048 [Post Game Thread] #8 Virginia defeats #13 North Carolina, 61-49\n",
      "5xkwrx 485 2048 [Post Game Thread] #5 North Carolina defeats #17 Duke 90-83\n",
      "7g9zrt 677 2048 [Post Game Thread] Purdue defeats #18 Louisville 66-57\n",
      "5pdjxk 632 2048 [Post Game Thread] #13 Arizona defeats #4 UCLA 96-85\n",
      "5yxeya 363 2048 [Post Game Thread] #8 Arizona defeats #5 Oregon, 83-80\n",
      "5tq742 509 2048 [Post Game Thread] Virginia Tech defeats #13 Virginia 80-78 (2OT)\n",
      "7k9wfb 745 2048 [Post Game Thread] Indiana defeats #18 Notre Dame 80-77 in OT\n",
      "5zumxh 426 2048 [Post Game Thread] #11 Xavier defeats #6 Maryland, 76-65\n",
      "5ujiye 528 2048 [Post Game Thread] Michigan defeats #12 Wisconsin, 64-58\n",
      "5w6yr8 713 2048 [Post Game Thread] Miami defeats #11 Duke, 55-50\n",
      "7n6gfz 537 2048 [Post Game Thread] #17 Arizona defeats #3 Arizona State 84-78\n",
      "605jlz 542 2048 [Post Game Thread] #4 West Virginia defeats #5 Notre Dame 83-71\n",
      "5ycfqm 566 2048 [Post Game Thread] Rutgers Defeats Ohio State 66-57\n",
      "5s5eif 501 2048 [Post Game Thread] #24 Florida defeats #7 Kentucky 88-66\n",
      "5wd67m 447 2048 [Post Game Thread] Michigan State defeats #16 Wisconsin, 84-74\n",
      "5zgyoe 541 2048 [Post Game Thread] Georgia Tech defeats Indiana 75-63\n",
      "7r6afl 708 2048 [Post Game Thread] SMU defeats #8 Wichita State 83-78\n",
      "7ft2vc 355 2048 [Post Game Thread] #1 Duke defeats #7 Florida 87-84\n",
      "7f48nk 720 2048 [Post Game Thread] Western Kentucky defeats #17 Purdue 77-73\n",
      "5t4u0d 357 2048 [Post Game Thread] #20 Duke defeats #5 North Carolina 86-78\n",
      "5q0ihy 400 2048 [Post Game Thread] #16 West Virginia defeats #2 Kansas 85-69\n",
      "61iu7j 666 2048 [Post Game Thread] #1 Gonzaga defeats #11 Xavier, 83-59\n",
      "5zvggr 313 2048 [Post Game Thread] #8 Wisconsin defeats #9 Virginia Tech, 84-74\n",
      "5s29pn 406 2048 [Post Game Thread] Syracuse defeats #8 Virginia 66-62\n",
      "7cbf0y 748 2048 [Post Game Thread] Appalachian State defeats Toccoa Falls, 135-34.\n"
     ]
    }
   ],
   "source": [
    "post_game_threads = bb.search('[Post Game Thread]', time_filter='year')\n",
    "for game in post_game_threads:\n",
    "    print('{} {} {} {}'.format(game, game.score, game.comment_limit, game.title))"
   ]
  },
  {
   "cell_type": "code",
   "execution_count": null,
   "metadata": {},
   "outputs": [],
   "source": []
  }
 ],
 "metadata": {
  "kernelspec": {
   "display_name": "Python 3",
   "language": "python",
   "name": "python3"
  },
  "language_info": {
   "codemirror_mode": {
    "name": "ipython",
    "version": 3
   },
   "file_extension": ".py",
   "mimetype": "text/x-python",
   "name": "python",
   "nbconvert_exporter": "python",
   "pygments_lexer": "ipython3",
   "version": "3.6.4"
  }
 },
 "nbformat": 4,
 "nbformat_minor": 2
}
